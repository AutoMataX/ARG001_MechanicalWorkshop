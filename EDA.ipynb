{
 "cells": [
  {
   "cell_type": "code",
   "execution_count": 3,
   "metadata": {},
   "outputs": [],
   "source": [
    "import pandas as pd\n",
    "import numpy as np\n",
    "import matplotlib.pyplot as plt"
   ]
  },
  {
   "cell_type": "markdown",
   "metadata": {},
   "source": [
    "# I) PREPARING & CLEANING\n",
    "\n",
    "## I.1) Grouping the different sheets that ar part of the workbook"
   ]
  },
  {
   "cell_type": "code",
   "execution_count": 10,
   "metadata": {},
   "outputs": [
    {
     "name": "stdout",
     "output_type": "stream",
     "text": [
      "Las hojas fueron combinadas exitosamente en ./data/raw data mixed.xlsx\n"
     ]
    }
   ],
   "source": [
    "'''\n",
    "# Ruta del archivo Excel de entrada\n",
    "archivo_entrada = './data/raw data.xlsx'\n",
    "\n",
    "# Cargar todas las hojas en un diccionario\n",
    "hojas = pd.read_excel(archivo_entrada, sheet_name=None)\n",
    "\n",
    "# Unir todas las hojas en un solo DataFrame\n",
    "df_completo = pd.concat(hojas.values(), ignore_index=True)\n",
    "\n",
    "# Guardar el DataFrame combinado en un nuevo archivo Excel\n",
    "archivo_salida = './data/raw data mixed.xlsx'\n",
    "df_completo.to_excel(archivo_salida, index=False)\n",
    "\n",
    "print(f\"Las hojas fueron combinadas exitosamente en {archivo_salida}\")\n",
    "'''"
   ]
  },
  {
   "cell_type": "markdown",
   "metadata": {},
   "source": [
    "## I.1) Manual edition: due errors by users, correction was need once every sheet is in a one workbook"
   ]
  },
  {
   "cell_type": "code",
   "execution_count": 5,
   "metadata": {},
   "outputs": [
    {
     "name": "stdout",
     "output_type": "stream",
     "text": [
      "<class 'pandas.core.frame.DataFrame'>\n",
      "RangeIndex: 3053 entries, 0 to 3052\n",
      "Data columns (total 7 columns):\n",
      " #   Column                             Non-Null Count  Dtype \n",
      "---  ------                             --------------  ----- \n",
      " 0   Numero OT                          3053 non-null   object\n",
      " 1   Fecha recepcion                    3053 non-null   object\n",
      " 2   Cliente                            3051 non-null   object\n",
      " 3   Tipo de ingreso                    3039 non-null   object\n",
      " 4   Responsable de ingreso             3040 non-null   object\n",
      " 5   Descripcion del proyecto           3048 non-null   object\n",
      " 6   Dimensiones [mm] anchoxlargoxalto  1384 non-null   object\n",
      "dtypes: object(7)\n",
      "memory usage: 167.1+ KB\n"
     ]
    }
   ],
   "source": [
    "path = './data/prepared data mixed.xlsx' \n",
    "df = pd.read_excel(path)\n",
    "df.info()"
   ]
  },
  {
   "cell_type": "code",
   "execution_count": 6,
   "metadata": {},
   "outputs": [
    {
     "data": {
      "text/html": [
       "<div>\n",
       "<style scoped>\n",
       "    .dataframe tbody tr th:only-of-type {\n",
       "        vertical-align: middle;\n",
       "    }\n",
       "\n",
       "    .dataframe tbody tr th {\n",
       "        vertical-align: top;\n",
       "    }\n",
       "\n",
       "    .dataframe thead th {\n",
       "        text-align: right;\n",
       "    }\n",
       "</style>\n",
       "<table border=\"1\" class=\"dataframe\">\n",
       "  <thead>\n",
       "    <tr style=\"text-align: right;\">\n",
       "      <th></th>\n",
       "      <th>Numero OT</th>\n",
       "      <th>Fecha recepcion</th>\n",
       "      <th>Cliente</th>\n",
       "      <th>Tipo de ingreso</th>\n",
       "      <th>Responsable de ingreso</th>\n",
       "      <th>Descripcion del proyecto</th>\n",
       "      <th>Dimensiones [mm] anchoxlargoxalto</th>\n",
       "    </tr>\n",
       "  </thead>\n",
       "  <tbody>\n",
       "    <tr>\n",
       "      <th>0</th>\n",
       "      <td>5580</td>\n",
       "      <td>2021-03-02</td>\n",
       "      <td>All Pack</td>\n",
       "      <td>Nuevo</td>\n",
       "      <td>Gustavo Martinez</td>\n",
       "      <td>Kit de sello</td>\n",
       "      <td>NaN</td>\n",
       "    </tr>\n",
       "    <tr>\n",
       "      <th>1</th>\n",
       "      <td>5579</td>\n",
       "      <td>2021-03-02</td>\n",
       "      <td>Frau Albors</td>\n",
       "      <td>Nuevo</td>\n",
       "      <td>Gustavo Martinez</td>\n",
       "      <td>Cilindro hidráulico</td>\n",
       "      <td>NaN</td>\n",
       "    </tr>\n",
       "    <tr>\n",
       "      <th>2</th>\n",
       "      <td>5581</td>\n",
       "      <td>2021-03-02</td>\n",
       "      <td>Olivos del valle</td>\n",
       "      <td>NaN</td>\n",
       "      <td>Gustavo Martinez</td>\n",
       "      <td>Con coe</td>\n",
       "      <td>NaN</td>\n",
       "    </tr>\n",
       "    <tr>\n",
       "      <th>3</th>\n",
       "      <td>5584</td>\n",
       "      <td>2021-03-03</td>\n",
       "      <td>AGV</td>\n",
       "      <td>Nuevo</td>\n",
       "      <td>Gustavo Martinez</td>\n",
       "      <td>Chik de china</td>\n",
       "      <td>NaN</td>\n",
       "    </tr>\n",
       "    <tr>\n",
       "      <th>4</th>\n",
       "      <td>5582</td>\n",
       "      <td>2021-03-03</td>\n",
       "      <td>Capra</td>\n",
       "      <td>Nuevo</td>\n",
       "      <td>Gustavo Martinez</td>\n",
       "      <td>Motor de traslación</td>\n",
       "      <td>NaN</td>\n",
       "    </tr>\n",
       "    <tr>\n",
       "      <th>...</th>\n",
       "      <td>...</td>\n",
       "      <td>...</td>\n",
       "      <td>...</td>\n",
       "      <td>...</td>\n",
       "      <td>...</td>\n",
       "      <td>...</td>\n",
       "      <td>...</td>\n",
       "    </tr>\n",
       "    <tr>\n",
       "      <th>3048</th>\n",
       "      <td>8328</td>\n",
       "      <td>2025-01-27</td>\n",
       "      <td>TECSESI (techint)</td>\n",
       "      <td>Nuevo</td>\n",
       "      <td>Guillermo Sanchez</td>\n",
       "      <td>martillo hidráulico 771045</td>\n",
       "      <td>350x1400x800</td>\n",
       "    </tr>\n",
       "    <tr>\n",
       "      <th>3049</th>\n",
       "      <td>8327</td>\n",
       "      <td>2025-01-27</td>\n",
       "      <td>TECSESI (techint)</td>\n",
       "      <td>Nuevo</td>\n",
       "      <td>Guillermo Sanchez</td>\n",
       "      <td>martillo hidráulico E&amp;W RX18</td>\n",
       "      <td>600x3300x750</td>\n",
       "    </tr>\n",
       "    <tr>\n",
       "      <th>3050</th>\n",
       "      <td>8331</td>\n",
       "      <td>2025-01-27</td>\n",
       "      <td>TECSESI (techint)</td>\n",
       "      <td>Nuevo</td>\n",
       "      <td>Guillermo Sanchez</td>\n",
       "      <td>criquet hidroneumático ph30-c</td>\n",
       "      <td>NaN</td>\n",
       "    </tr>\n",
       "    <tr>\n",
       "      <th>3051</th>\n",
       "      <td>8330</td>\n",
       "      <td>2025-01-27</td>\n",
       "      <td>TECSESI (techint)</td>\n",
       "      <td>Nuevo</td>\n",
       "      <td>Guillermo Sanchez</td>\n",
       "      <td>criquet hidroneumático torletti</td>\n",
       "      <td>NaN</td>\n",
       "    </tr>\n",
       "    <tr>\n",
       "      <th>3052</th>\n",
       "      <td>8329</td>\n",
       "      <td>2025-01-27</td>\n",
       "      <td>TECSESI (techint)</td>\n",
       "      <td>Nuevo</td>\n",
       "      <td>Guillermo Sanchez</td>\n",
       "      <td>martillo cat H75E mas componentes</td>\n",
       "      <td>NaN</td>\n",
       "    </tr>\n",
       "  </tbody>\n",
       "</table>\n",
       "<p>3053 rows × 7 columns</p>\n",
       "</div>"
      ],
      "text/plain": [
       "     Numero OT Fecha recepcion            Cliente Tipo de ingreso  \\\n",
       "0         5580      2021-03-02           All Pack           Nuevo   \n",
       "1         5579      2021-03-02        Frau Albors           Nuevo   \n",
       "2         5581      2021-03-02   Olivos del valle             NaN   \n",
       "3         5584      2021-03-03                AGV           Nuevo   \n",
       "4         5582      2021-03-03              Capra           Nuevo   \n",
       "...        ...             ...                ...             ...   \n",
       "3048      8328      2025-01-27  TECSESI (techint)           Nuevo   \n",
       "3049      8327      2025-01-27  TECSESI (techint)           Nuevo   \n",
       "3050      8331      2025-01-27  TECSESI (techint)           Nuevo   \n",
       "3051      8330      2025-01-27  TECSESI (techint)           Nuevo   \n",
       "3052      8329      2025-01-27  TECSESI (techint)           Nuevo   \n",
       "\n",
       "     Responsable de ingreso            Descripcion del proyecto  \\\n",
       "0          Gustavo Martinez                        Kit de sello   \n",
       "1          Gustavo Martinez                 Cilindro hidráulico   \n",
       "2          Gustavo Martinez                             Con coe   \n",
       "3          Gustavo Martinez                       Chik de china   \n",
       "4          Gustavo Martinez                Motor de traslación    \n",
       "...                     ...                                 ...   \n",
       "3048      Guillermo Sanchez          martillo hidráulico 771045   \n",
       "3049      Guillermo Sanchez        martillo hidráulico E&W RX18   \n",
       "3050      Guillermo Sanchez       criquet hidroneumático ph30-c   \n",
       "3051      Guillermo Sanchez     criquet hidroneumático torletti   \n",
       "3052      Guillermo Sanchez  martillo cat H75E mas componentes    \n",
       "\n",
       "     Dimensiones [mm] anchoxlargoxalto  \n",
       "0                                  NaN  \n",
       "1                                  NaN  \n",
       "2                                  NaN  \n",
       "3                                  NaN  \n",
       "4                                  NaN  \n",
       "...                                ...  \n",
       "3048                      350x1400x800  \n",
       "3049                      600x3300x750  \n",
       "3050                               NaN  \n",
       "3051                               NaN  \n",
       "3052                               NaN  \n",
       "\n",
       "[3053 rows x 7 columns]"
      ]
     },
     "execution_count": 6,
     "metadata": {},
     "output_type": "execute_result"
    }
   ],
   "source": [
    "#df = df.iloc[:,:7]\n",
    "#df = df.dropna(axis = 1, how = 'all')\n",
    "df = df.sort_values(by = 'Fecha recepcion')\n",
    "df = df.reset_index(drop=True)\n",
    "df"
   ]
  },
  {
   "cell_type": "markdown",
   "metadata": {},
   "source": [
    "## I.3) EXPLORATION\n",
    "\n",
    "- ### **a) How many clients the company have?**"
   ]
  },
  {
   "cell_type": "code",
   "execution_count": 7,
   "metadata": {},
   "outputs": [
    {
     "data": {
      "text/plain": [
       "Cliente\n",
       "MINA PIRQUITAS                    235\n",
       "YMAD                              154\n",
       "FINNING                            94\n",
       "HOLCIM                             85\n",
       "L'EQUIPE MONTEUR                   81\n",
       "                                 ... \n",
       "TRANS PUCARA                        1\n",
       "PRITTY SALDAN                       1\n",
       "LUCANA CONSTRUCCIONES               1\n",
       "FSVIAL                              1\n",
       "JUAN MARTIN OLIVEIRA CABALEIRO      1\n",
       "Name: count, Length: 485, dtype: int64"
      ]
     },
     "execution_count": 7,
     "metadata": {},
     "output_type": "execute_result"
    }
   ],
   "source": [
    "df['Cliente'] = df['Cliente'].str.upper()\n",
    "df['Cliente'].value_counts()"
   ]
  },
  {
   "cell_type": "markdown",
   "metadata": {},
   "source": [
    "### We found:\n",
    "- ### *There is 485 different clients*\n",
    "- ### *Most common customer: Mina Pirquitas (~7.7% of all the projects)**\n",
    "\n",
    "(*) Because, so far, the company count 3053 projects. Counting since the beginning of 2021.\n",
    "\n",
    "\n",
    "- ### **b) How many projects by year & month take the company?**"
   ]
  },
  {
   "cell_type": "code",
   "execution_count": 67,
   "metadata": {},
   "outputs": [
    {
     "data": {
      "text/html": [
       "<div>\n",
       "<style scoped>\n",
       "    .dataframe tbody tr th:only-of-type {\n",
       "        vertical-align: middle;\n",
       "    }\n",
       "\n",
       "    .dataframe tbody tr th {\n",
       "        vertical-align: top;\n",
       "    }\n",
       "\n",
       "    .dataframe thead th {\n",
       "        text-align: right;\n",
       "    }\n",
       "</style>\n",
       "<table border=\"1\" class=\"dataframe\">\n",
       "  <thead>\n",
       "    <tr style=\"text-align: right;\">\n",
       "      <th></th>\n",
       "      <th>Numero OT</th>\n",
       "      <th>Fecha recepcion</th>\n",
       "      <th>Cliente</th>\n",
       "      <th>Tipo de ingreso</th>\n",
       "      <th>Responsable de ingreso</th>\n",
       "      <th>Descripcion del proyecto</th>\n",
       "      <th>Dimensiones [mm] anchoxlargoxalto</th>\n",
       "      <th>año</th>\n",
       "      <th>año y mes</th>\n",
       "    </tr>\n",
       "  </thead>\n",
       "  <tbody>\n",
       "    <tr>\n",
       "      <th>0</th>\n",
       "      <td>5580</td>\n",
       "      <td>2021-03-02</td>\n",
       "      <td>ALL PACK</td>\n",
       "      <td>NUEVO</td>\n",
       "      <td>Gustavo Martinez</td>\n",
       "      <td>Kit de sello</td>\n",
       "      <td>NaN</td>\n",
       "      <td>2021</td>\n",
       "      <td>2021-03</td>\n",
       "    </tr>\n",
       "    <tr>\n",
       "      <th>1</th>\n",
       "      <td>5579</td>\n",
       "      <td>2021-03-02</td>\n",
       "      <td>FRAU ALBORS</td>\n",
       "      <td>NUEVO</td>\n",
       "      <td>Gustavo Martinez</td>\n",
       "      <td>Cilindro hidráulico</td>\n",
       "      <td>NaN</td>\n",
       "      <td>2021</td>\n",
       "      <td>2021-03</td>\n",
       "    </tr>\n",
       "    <tr>\n",
       "      <th>2</th>\n",
       "      <td>5581</td>\n",
       "      <td>2021-03-02</td>\n",
       "      <td>OLIVOS DEL VALLE</td>\n",
       "      <td>NaN</td>\n",
       "      <td>Gustavo Martinez</td>\n",
       "      <td>Con coe</td>\n",
       "      <td>NaN</td>\n",
       "      <td>2021</td>\n",
       "      <td>2021-03</td>\n",
       "    </tr>\n",
       "    <tr>\n",
       "      <th>3</th>\n",
       "      <td>5584</td>\n",
       "      <td>2021-03-03</td>\n",
       "      <td>AGV</td>\n",
       "      <td>NUEVO</td>\n",
       "      <td>Gustavo Martinez</td>\n",
       "      <td>Chik de china</td>\n",
       "      <td>NaN</td>\n",
       "      <td>2021</td>\n",
       "      <td>2021-03</td>\n",
       "    </tr>\n",
       "  </tbody>\n",
       "</table>\n",
       "</div>"
      ],
      "text/plain": [
       "  Numero OT Fecha recepcion           Cliente Tipo de ingreso  \\\n",
       "0      5580      2021-03-02          ALL PACK           NUEVO   \n",
       "1      5579      2021-03-02       FRAU ALBORS           NUEVO   \n",
       "2      5581      2021-03-02  OLIVOS DEL VALLE             NaN   \n",
       "3      5584      2021-03-03               AGV           NUEVO   \n",
       "\n",
       "  Responsable de ingreso Descripcion del proyecto  \\\n",
       "0       Gustavo Martinez             Kit de sello   \n",
       "1       Gustavo Martinez      Cilindro hidráulico   \n",
       "2       Gustavo Martinez                  Con coe   \n",
       "3       Gustavo Martinez            Chik de china   \n",
       "\n",
       "  Dimensiones [mm] anchoxlargoxalto   año año y mes  \n",
       "0                               NaN  2021   2021-03  \n",
       "1                               NaN  2021   2021-03  \n",
       "2                               NaN  2021   2021-03  \n",
       "3                               NaN  2021   2021-03  "
      ]
     },
     "execution_count": 67,
     "metadata": {},
     "output_type": "execute_result"
    }
   ],
   "source": [
    "df['año'] = df['Fecha recepcion'].str.split('-', expand = True)[0] \n",
    "df['año y mes'] = df['Fecha recepcion'].str.split('-', expand = True)[0] + '-' + df['Fecha recepcion'].str.split('-', expand = True)[1]\n",
    "df.head(4)"
   ]
  },
  {
   "cell_type": "code",
   "execution_count": 70,
   "metadata": {},
   "outputs": [
    {
     "data": {
      "text/plain": [
       "array(['NUEVO', nan, 'RECLAMO', 'REINGRESO'], dtype=object)"
      ]
     },
     "execution_count": 70,
     "metadata": {},
     "output_type": "execute_result"
    }
   ],
   "source": [
    "df['Tipo de ingreso'] = df['Tipo de ingreso'].str.upper()\n",
    "df['Tipo de ingreso'].unique()"
   ]
  },
  {
   "cell_type": "code",
   "execution_count": 81,
   "metadata": {},
   "outputs": [],
   "source": [
    "# TOTAL of projects\n",
    "df_pj_tot = df['año y mes'].value_counts() # This returns a Series\n",
    "df_pj_tot = df_pj_tot.sort_index()\n",
    "df_pj_tot = df_pj_tot.to_frame(name='TOTAL') # This turns the series into a pandas dataframe\n",
    "#df_pj_total"
   ]
  },
  {
   "cell_type": "code",
   "execution_count": 82,
   "metadata": {},
   "outputs": [],
   "source": [
    "# Projects that are NEW\n",
    "df_pj_new = df[df['Tipo de ingreso'] == 'NUEVO']['año y mes'].value_counts() #df['año y mes'].value_counts() # This returns a Series\n",
    "df_pj_new = df_pj_new.sort_index()\n",
    "df_pj_new = df_pj_new.to_frame(name='NUEVOS') # This turns the series into a pandas dataframe\n",
    "#df_pj_new"
   ]
  },
  {
   "cell_type": "code",
   "execution_count": 83,
   "metadata": {},
   "outputs": [],
   "source": [
    "# Projects that are COMPLAINS\n",
    "df_pj_com = df[df['Tipo de ingreso'] == 'RECLAMO']['año y mes'].value_counts() #df['año y mes'].value_counts() # This returns a Series\n",
    "df_pj_com = df_pj_com.sort_index()\n",
    "df_pj_com = df_pj_com.to_frame(name='RECLAMO') # This turns the series into a pandas dataframe\n",
    "\n",
    "# Projects that are RE-ENTER:\n",
    "df_pj_ree = df[df['Tipo de ingreso'] == 'REINGRESO']['año y mes'].value_counts() #df['año y mes'].value_counts() # This returns a Series\n",
    "df_pj_ree = df_pj_ree.sort_index()\n",
    "df_pj_ree = df_pj_ree.to_frame(name='REINGRESO') # This turns the series into a pandas dataframe"
   ]
  },
  {
   "cell_type": "code",
   "execution_count": 79,
   "metadata": {},
   "outputs": [
    {
     "data": {
      "text/plain": [
       "array(['NUEVO', nan, 'RECLAMO', 'REINGRESO'], dtype=object)"
      ]
     },
     "execution_count": 79,
     "metadata": {},
     "output_type": "execute_result"
    }
   ],
   "source": [
    "df['Tipo de ingreso'].unique()"
   ]
  },
  {
   "cell_type": "markdown",
   "metadata": {},
   "source": [
    "### Concatenate: the datasets"
   ]
  },
  {
   "cell_type": "code",
   "execution_count": 89,
   "metadata": {},
   "outputs": [
    {
     "data": {
      "text/html": [
       "<div>\n",
       "<style scoped>\n",
       "    .dataframe tbody tr th:only-of-type {\n",
       "        vertical-align: middle;\n",
       "    }\n",
       "\n",
       "    .dataframe tbody tr th {\n",
       "        vertical-align: top;\n",
       "    }\n",
       "\n",
       "    .dataframe thead th {\n",
       "        text-align: right;\n",
       "    }\n",
       "</style>\n",
       "<table border=\"1\" class=\"dataframe\">\n",
       "  <thead>\n",
       "    <tr style=\"text-align: right;\">\n",
       "      <th></th>\n",
       "      <th>TOTAL</th>\n",
       "      <th>NUEVOS</th>\n",
       "      <th>RECLAMO</th>\n",
       "      <th>REINGRESO</th>\n",
       "    </tr>\n",
       "  </thead>\n",
       "  <tbody>\n",
       "    <tr>\n",
       "      <th>count</th>\n",
       "      <td>47.000000</td>\n",
       "      <td>47.000000</td>\n",
       "      <td>47.000000</td>\n",
       "      <td>47.000000</td>\n",
       "    </tr>\n",
       "    <tr>\n",
       "      <th>mean</th>\n",
       "      <td>64.957447</td>\n",
       "      <td>59.936170</td>\n",
       "      <td>1.382979</td>\n",
       "      <td>3.340426</td>\n",
       "    </tr>\n",
       "    <tr>\n",
       "      <th>std</th>\n",
       "      <td>18.585826</td>\n",
       "      <td>16.980045</td>\n",
       "      <td>1.973225</td>\n",
       "      <td>3.073566</td>\n",
       "    </tr>\n",
       "    <tr>\n",
       "      <th>min</th>\n",
       "      <td>29.000000</td>\n",
       "      <td>28.000000</td>\n",
       "      <td>0.000000</td>\n",
       "      <td>0.000000</td>\n",
       "    </tr>\n",
       "    <tr>\n",
       "      <th>25%</th>\n",
       "      <td>52.000000</td>\n",
       "      <td>49.000000</td>\n",
       "      <td>0.000000</td>\n",
       "      <td>1.000000</td>\n",
       "    </tr>\n",
       "    <tr>\n",
       "      <th>50%</th>\n",
       "      <td>66.000000</td>\n",
       "      <td>61.000000</td>\n",
       "      <td>1.000000</td>\n",
       "      <td>2.000000</td>\n",
       "    </tr>\n",
       "    <tr>\n",
       "      <th>75%</th>\n",
       "      <td>74.000000</td>\n",
       "      <td>69.000000</td>\n",
       "      <td>2.000000</td>\n",
       "      <td>4.500000</td>\n",
       "    </tr>\n",
       "    <tr>\n",
       "      <th>max</th>\n",
       "      <td>106.000000</td>\n",
       "      <td>101.000000</td>\n",
       "      <td>10.000000</td>\n",
       "      <td>15.000000</td>\n",
       "    </tr>\n",
       "  </tbody>\n",
       "</table>\n",
       "</div>"
      ],
      "text/plain": [
       "            TOTAL      NUEVOS    RECLAMO  REINGRESO\n",
       "count   47.000000   47.000000  47.000000  47.000000\n",
       "mean    64.957447   59.936170   1.382979   3.340426\n",
       "std     18.585826   16.980045   1.973225   3.073566\n",
       "min     29.000000   28.000000   0.000000   0.000000\n",
       "25%     52.000000   49.000000   0.000000   1.000000\n",
       "50%     66.000000   61.000000   1.000000   2.000000\n",
       "75%     74.000000   69.000000   2.000000   4.500000\n",
       "max    106.000000  101.000000  10.000000  15.000000"
      ]
     },
     "execution_count": 89,
     "metadata": {},
     "output_type": "execute_result"
    }
   ],
   "source": [
    "df_pj = pd.concat([df_pj_tot, df_pj_new, df_pj_com, df_pj_ree], axis=1)\n",
    "df_pj = df_pj.fillna(0)\n",
    "df_pj.describe()"
   ]
  },
  {
   "cell_type": "code",
   "execution_count": 90,
   "metadata": {},
   "outputs": [
    {
     "data": {
      "text/plain": [
       "\"\\nplt.xticks(rotation=45)\\nplt.legend()\\nplt.xlabel('X label')\\nplt.ylabel('Y label')\\n#plt.ylim(-10,40)\\nplt.show()\\n\""
      ]
     },
     "execution_count": 90,
     "metadata": {},
     "output_type": "execute_result"
    },
    {
     "data": {
      "image/png": "[encoded data removed]",
      "text/plain": [
       "<Figure size 2400x1200 with 1 Axes>"
      ]
     },
     "metadata": {},
     "output_type": "display_data"
    }
   ],
   "source": [
    "# Plotting the results -----------\n",
    "df_pj.plot(figsize = (24,12), kind = 'bar', grid = True, rot = 60)\n",
    "plt.xlabel('Año-Mes', size = 15)\n",
    "plt.ylabel('Proyectos ingresados', size = 15)\n",
    "plt.title('Proyectos ingresados vs Tiempo', size = 20)\n",
    "\n",
    "# Horizontal line\n",
    "yline = round(df_pj['TOTAL'].mean(), 0)\n",
    "plt.axhline(y=yline, color='r', linestyle='-')\n",
    "\n",
    "'''\n",
    "plt.xticks(rotation=45)\n",
    "plt.legend()\n",
    "plt.xlabel('X label')\n",
    "plt.ylabel('Y label')\n",
    "#plt.ylim(-10,40)\n",
    "plt.show()\n",
    "'''"
   ]
  },
  {
   "cell_type": "markdown",
   "metadata": {},
   "source": [
    "### Turning the previous dataset into percent:"
   ]
  },
  {
   "cell_type": "code",
   "execution_count": 100,
   "metadata": {},
   "outputs": [
    {
     "data": {
      "text/plain": [
       "año y mes\n",
       "2021-03     86.2\n",
       "2021-04     85.7\n",
       "2021-05     95.3\n",
       "2021-06     90.8\n",
       "2021-07     96.6\n",
       "2021-08     87.8\n",
       "2021-09     95.3\n",
       "2021-10     96.6\n",
       "2021-11     83.9\n",
       "2021-12     90.3\n",
       "2022-01     97.6\n",
       "2022-02     88.2\n",
       "2022-03     82.4\n",
       "2022-04     85.1\n",
       "2022-05     94.6\n",
       "2022-06     94.4\n",
       "2022-07     87.8\n",
       "2022-08     98.0\n",
       "2022-09     91.2\n",
       "2022-10     87.9\n",
       "2022-11     91.9\n",
       "2022-12     96.6\n",
       "2023-01     90.3\n",
       "2023-02     96.8\n",
       "2023-03     86.3\n",
       "2023-04     95.5\n",
       "2023-05     96.1\n",
       "2023-06     98.8\n",
       "2023-07     87.5\n",
       "2023-08     93.2\n",
       "2023-09     92.6\n",
       "2023-10     89.0\n",
       "2023-11     96.6\n",
       "2023-12     95.8\n",
       "2024-01     85.0\n",
       "2024-02     86.7\n",
       "2024-03     91.7\n",
       "2024-04     89.9\n",
       "2024-05     93.0\n",
       "2024-06     94.4\n",
       "2024-07     92.9\n",
       "2024-08    100.0\n",
       "2024-09     98.1\n",
       "2024-10     97.0\n",
       "2024-11    100.0\n",
       "2024-12    100.0\n",
       "2025-01    100.0\n",
       "dtype: float64"
      ]
     },
     "execution_count": 100,
     "metadata": {},
     "output_type": "execute_result"
    }
   ],
   "source": [
    "round((df_pj['NUEVOS'] / df_pj['TOTAL'])*100, 1) #/ df_pj.iloc[:,:1]"
   ]
  },
  {
   "cell_type": "code",
   "execution_count": null,
   "metadata": {},
   "outputs": [],
   "source": []
  }
 ],
 "metadata": {
  "kernelspec": {
   "display_name": "Python 3",
   "language": "python",
   "name": "python3"
  },
  "language_info": {
   "codemirror_mode": {
    "name": "ipython",
    "version": 3
   },
   "file_extension": ".py",
   "mimetype": "text/x-python",
   "name": "python",
   "nbconvert_exporter": "python",
   "pygments_lexer": "ipython3",
   "version": "3.11.9"
  }
 },
 "nbformat": 4,
 "nbformat_minor": 2
}

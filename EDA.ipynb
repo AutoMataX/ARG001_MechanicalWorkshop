{
 "cells": [
  {
   "cell_type": "code",
   "execution_count": 1,
   "metadata": {},
   "outputs": [],
   "source": [
    "import pandas as pd"
   ]
  },
  {
   "cell_type": "markdown",
   "metadata": {},
   "source": [
    "# I) Group the sheets\n",
    "\n",
    "## Grouping the different sheets that ar part of the workbook"
   ]
  },
  {
   "cell_type": "code",
   "execution_count": 5,
   "metadata": {},
   "outputs": [
    {
     "name": "stdout",
     "output_type": "stream",
     "text": [
      "Las hojas fueron combinadas exitosamente en ./data/raw data mixed.xlsx\n"
     ]
    }
   ],
   "source": [
    "# Ruta del archivo Excel de entrada\n",
    "archivo_entrada = './data/raw data.xlsx'\n",
    "\n",
    "# Cargar todas las hojas en un diccionario\n",
    "hojas = pd.read_excel(archivo_entrada, sheet_name=None)\n",
    "\n",
    "# Unir todas las hojas en un solo DataFrame\n",
    "df_completo = pd.concat(hojas.values(), ignore_index=True)\n",
    "\n",
    "# Guardar el DataFrame combinado en un nuevo archivo Excel\n",
    "archivo_salida = './data/raw data mixed.xlsx'\n",
    "df_completo.to_excel(archivo_salida, index=False)\n",
    "\n",
    "print(f\"Las hojas fueron combinadas exitosamente en {archivo_salida}\")"
   ]
  },
  {
   "cell_type": "code",
   "execution_count": 16,
   "metadata": {},
   "outputs": [
    {
     "name": "stdout",
     "output_type": "stream",
     "text": [
      "<class 'pandas.core.frame.DataFrame'>\n",
      "RangeIndex: 3127 entries, 0 to 3126\n",
      "Data columns (total 27 columns):\n",
      " #   Column                                                               Non-Null Count  Dtype \n",
      "---  ------                                                               --------------  ----- \n",
      " 0   N° OT                                                                3052 non-null   object\n",
      " 1   Fecha de recepción                                                   3048 non-null   object\n",
      " 2   CLIENTE                                                              3051 non-null   object\n",
      " 3   Nuevo, reingreso o reclamo?                                          3039 non-null   object\n",
      " 4   Responsable de registro                                              3040 non-null   object\n",
      " 5   Descripción del proyecto                                             3048 non-null   object\n",
      " 6   Dimensiones [mm] ancho x largo x alto                                1384 non-null   object\n",
      " 7   Registro Fotográfico                                                 2007 non-null   object\n",
      " 8   Unnamed: 8                                                           1471 non-null   object\n",
      " 9   Marcado                                                              1109 non-null   object\n",
      " 10  Unnamed: 10                                                          1047 non-null   object\n",
      " 11  Teléfono                                                             1018 non-null   object\n",
      " 12  Email                                                                1166 non-null   object\n",
      " 13  Nº Remito del cliente                                                818 non-null    object\n",
      " 14  MOTIVO de recepción                     (Preguntar posibles causas)  617 non-null    object\n",
      " 15  Dimensiones [mm] ancho x largo x alto.1                              432 non-null    object\n",
      " 16  Marcado de piezas                                                    765 non-null    object\n",
      " 17  Registro fotográfico                                                 825 non-null    object\n",
      " 18  Nº de tarima                                                         543 non-null    object\n",
      " 19  Responsable de desarme                                               731 non-null    object\n",
      " 20  Observaciones                                                        917 non-null    object\n",
      " 21  Responsable de relevamiento                                          936 non-null    object\n",
      " 22  Confección ficha PAPEL                                               1019 non-null   object\n",
      " 23  Registro fotográfico.1                                               2091 non-null   object\n",
      " 24  Cotización                                                           915 non-null    object\n",
      " 25  Seguimiento de cotizacion                                            724 non-null    object\n",
      " 26  Unnamed: 26                                                          420 non-null    object\n",
      "dtypes: object(27)\n",
      "memory usage: 659.7+ KB\n"
     ]
    }
   ],
   "source": [
    "df = pd.read_excel('./data/prepared data mixed.xlsx')\n",
    "df.info()"
   ]
  },
  {
   "cell_type": "code",
   "execution_count": 17,
   "metadata": {},
   "outputs": [
    {
     "data": {
      "text/html": [
       "<div>\n",
       "<style scoped>\n",
       "    .dataframe tbody tr th:only-of-type {\n",
       "        vertical-align: middle;\n",
       "    }\n",
       "\n",
       "    .dataframe tbody tr th {\n",
       "        vertical-align: top;\n",
       "    }\n",
       "\n",
       "    .dataframe thead th {\n",
       "        text-align: right;\n",
       "    }\n",
       "</style>\n",
       "<table border=\"1\" class=\"dataframe\">\n",
       "  <thead>\n",
       "    <tr style=\"text-align: right;\">\n",
       "      <th></th>\n",
       "      <th>N° OT</th>\n",
       "      <th>Fecha de recepción</th>\n",
       "      <th>CLIENTE</th>\n",
       "      <th>Nuevo, reingreso o reclamo?</th>\n",
       "      <th>Responsable de registro</th>\n",
       "      <th>Descripción del proyecto</th>\n",
       "      <th>Dimensiones [mm] ancho x largo x alto</th>\n",
       "    </tr>\n",
       "  </thead>\n",
       "  <tbody>\n",
       "    <tr>\n",
       "      <th>0</th>\n",
       "      <td>8297</td>\n",
       "      <td>2025-01-09</td>\n",
       "      <td>AGV</td>\n",
       "      <td>Nuevo</td>\n",
       "      <td>Guillermo Sanchez</td>\n",
       "      <td>CILINDRO DE BALDE DE EXCAVADORA SANY SY 750H I...</td>\n",
       "      <td>480x2450x450</td>\n",
       "    </tr>\n",
       "    <tr>\n",
       "      <th>1</th>\n",
       "      <td>8298</td>\n",
       "      <td>2025-01-09</td>\n",
       "      <td>EXAR</td>\n",
       "      <td>Nuevo</td>\n",
       "      <td>Oficina Técnica</td>\n",
       "      <td>SELLO RADIAL DE EJE 45X62X8 HMSA10RG X 6UNI</td>\n",
       "      <td>X</td>\n",
       "    </tr>\n",
       "    <tr>\n",
       "      <th>2</th>\n",
       "      <td>8299</td>\n",
       "      <td>2025-01-10</td>\n",
       "      <td>GESTAMP</td>\n",
       "      <td>Nuevo</td>\n",
       "      <td>Oficina Técnica</td>\n",
       "      <td>PLACA PORTA FERODO</td>\n",
       "      <td>NaN</td>\n",
       "    </tr>\n",
       "  </tbody>\n",
       "</table>\n",
       "</div>"
      ],
      "text/plain": [
       "  N° OT Fecha de recepción  CLIENTE Nuevo, reingreso o reclamo?  \\\n",
       "0  8297         2025-01-09      AGV                       Nuevo   \n",
       "1  8298         2025-01-09     EXAR                       Nuevo   \n",
       "2  8299         2025-01-10  GESTAMP                       Nuevo   \n",
       "\n",
       "  Responsable de registro                           Descripción del proyecto  \\\n",
       "0       Guillermo Sanchez  CILINDRO DE BALDE DE EXCAVADORA SANY SY 750H I...   \n",
       "1         Oficina Técnica        SELLO RADIAL DE EJE 45X62X8 HMSA10RG X 6UNI   \n",
       "2         Oficina Técnica                                 PLACA PORTA FERODO   \n",
       "\n",
       "  Dimensiones [mm] ancho x largo x alto  \n",
       "0                          480x2450x450  \n",
       "1                                     X  \n",
       "2                                   NaN  "
      ]
     },
     "execution_count": 17,
     "metadata": {},
     "output_type": "execute_result"
    }
   ],
   "source": [
    "df = df.iloc[:,:7]\n",
    "df.head(3)"
   ]
  },
  {
   "cell_type": "code",
   "execution_count": 19,
   "metadata": {},
   "outputs": [
    {
     "data": {
      "text/plain": [
       "(744,)"
      ]
     },
     "execution_count": 19,
     "metadata": {},
     "output_type": "execute_result"
    }
   ],
   "source": [
    "df['CLIENTE'].unique().shape"
   ]
  },
  {
   "cell_type": "code",
   "execution_count": null,
   "metadata": {},
   "outputs": [],
   "source": []
  }
 ],
 "metadata": {
  "kernelspec": {
   "display_name": "Python 3",
   "language": "python",
   "name": "python3"
  },
  "language_info": {
   "codemirror_mode": {
    "name": "ipython",
    "version": 3
   },
   "file_extension": ".py",
   "mimetype": "text/x-python",
   "name": "python",
   "nbconvert_exporter": "python",
   "pygments_lexer": "ipython3",
   "version": "3.11.9"
  }
 },
 "nbformat": 4,
 "nbformat_minor": 2
}

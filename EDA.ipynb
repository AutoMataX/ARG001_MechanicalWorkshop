{
 "cells": [
  {
   "cell_type": "code",
   "execution_count": 1,
   "metadata": {},
   "outputs": [],
   "source": [
    "import pandas as pd\n",
    "import numpy as np\n",
    "import matplotlib.pyplot as plt\n",
    "\n",
    "#import markdown\n"
   ]
  },
  {
   "cell_type": "markdown",
   "metadata": {},
   "source": [
    "# **I) PREPARING & CLEANING**\n",
    "\n",
    "## Grouping the different sheets that ar part of the workbook"
   ]
  },
  {
   "cell_type": "code",
   "execution_count": 10,
   "metadata": {},
   "outputs": [
    {
     "name": "stdout",
     "output_type": "stream",
     "text": [
      "Las hojas fueron combinadas exitosamente en ./data/raw data mixed.xlsx\n"
     ]
    }
   ],
   "source": [
    "'''\n",
    "# Ruta del archivo Excel de entrada\n",
    "archivo_entrada = './data/raw data.xlsx'\n",
    "\n",
    "# Cargar todas las hojas en un diccionario\n",
    "hojas = pd.read_excel(archivo_entrada, sheet_name=None)\n",
    "\n",
    "# Unir todas las hojas en un solo DataFrame\n",
    "df_completo = pd.concat(hojas.values(), ignore_index=True)\n",
    "\n",
    "# Guardar el DataFrame combinado en un nuevo archivo Excel\n",
    "archivo_salida = './data/raw data mixed.xlsx'\n",
    "df_completo.to_excel(archivo_salida, index=False)\n",
    "\n",
    "print(f\"Las hojas fueron combinadas exitosamente en {archivo_salida}\")\n",
    "'''"
   ]
  },
  {
   "cell_type": "markdown",
   "metadata": {},
   "source": [
    "### Once is done, due errors by users, correction was need once every sheet is in a one workbook. Once is done, we get the file *\"prepared data mixed.xlsx\"*"
   ]
  },
  {
   "cell_type": "code",
   "execution_count": 15,
   "metadata": {},
   "outputs": [
    {
     "data": {
      "text/html": [
       "<div>\n",
       "<style scoped>\n",
       "    .dataframe tbody tr th:only-of-type {\n",
       "        vertical-align: middle;\n",
       "    }\n",
       "\n",
       "    .dataframe tbody tr th {\n",
       "        vertical-align: top;\n",
       "    }\n",
       "\n",
       "    .dataframe thead th {\n",
       "        text-align: right;\n",
       "    }\n",
       "</style>\n",
       "<table border=\"1\" class=\"dataframe\">\n",
       "  <thead>\n",
       "    <tr style=\"text-align: right;\">\n",
       "      <th></th>\n",
       "      <th>Numero OT</th>\n",
       "      <th>Fecha recepcion</th>\n",
       "      <th>Cliente</th>\n",
       "      <th>Tipo de ingreso</th>\n",
       "      <th>Responsable de ingreso</th>\n",
       "      <th>Descripcion del proyecto</th>\n",
       "      <th>Dimensiones [mm] anchoxlargoxalto</th>\n",
       "      <th>año</th>\n",
       "      <th>año-mes</th>\n",
       "    </tr>\n",
       "  </thead>\n",
       "  <tbody>\n",
       "    <tr>\n",
       "      <th>0</th>\n",
       "      <td>5580</td>\n",
       "      <td>2021-03-02</td>\n",
       "      <td>ALL PACK</td>\n",
       "      <td>NUEVO</td>\n",
       "      <td>GUSTAVO MARTINEZ</td>\n",
       "      <td>KIT DE SELLOS</td>\n",
       "      <td>NaN</td>\n",
       "      <td>2021</td>\n",
       "      <td>2021-03</td>\n",
       "    </tr>\n",
       "    <tr>\n",
       "      <th>1</th>\n",
       "      <td>5581</td>\n",
       "      <td>2021-03-02</td>\n",
       "      <td>OLIVOS DEL VALLE</td>\n",
       "      <td>NUEVO</td>\n",
       "      <td>GUSTAVO MARTINEZ</td>\n",
       "      <td>CON COE</td>\n",
       "      <td>NaN</td>\n",
       "      <td>2021</td>\n",
       "      <td>2021-03</td>\n",
       "    </tr>\n",
       "    <tr>\n",
       "      <th>2</th>\n",
       "      <td>5579</td>\n",
       "      <td>2021-03-02</td>\n",
       "      <td>FRAU ALBORS</td>\n",
       "      <td>NUEVO</td>\n",
       "      <td>GUSTAVO MARTINEZ</td>\n",
       "      <td>CILINDRO HIDRÁULICO</td>\n",
       "      <td>NaN</td>\n",
       "      <td>2021</td>\n",
       "      <td>2021-03</td>\n",
       "    </tr>\n",
       "    <tr>\n",
       "      <th>3</th>\n",
       "      <td>5583</td>\n",
       "      <td>2021-03-03</td>\n",
       "      <td>SULLAIR</td>\n",
       "      <td>NUEVO</td>\n",
       "      <td>GUSTAVO MARTINEZ</td>\n",
       "      <td>CILINDRO ELEVACIÓN DE CUCHARA</td>\n",
       "      <td>NaN</td>\n",
       "      <td>2021</td>\n",
       "      <td>2021-03</td>\n",
       "    </tr>\n",
       "    <tr>\n",
       "      <th>4</th>\n",
       "      <td>5587</td>\n",
       "      <td>2021-03-03</td>\n",
       "      <td>NEWMONT</td>\n",
       "      <td>NUEVO</td>\n",
       "      <td>GUSTAVO MARTINEZ</td>\n",
       "      <td>CILINDRO BRAZO MANIPULADOR SANDVIK</td>\n",
       "      <td>NaN</td>\n",
       "      <td>2021</td>\n",
       "      <td>2021-03</td>\n",
       "    </tr>\n",
       "  </tbody>\n",
       "</table>\n",
       "</div>"
      ],
      "text/plain": [
       "  Numero OT Fecha recepcion           Cliente Tipo de ingreso  \\\n",
       "0      5580      2021-03-02          ALL PACK           NUEVO   \n",
       "1      5581      2021-03-02  OLIVOS DEL VALLE           NUEVO   \n",
       "2      5579      2021-03-02       FRAU ALBORS           NUEVO   \n",
       "3      5583      2021-03-03           SULLAIR           NUEVO   \n",
       "4      5587      2021-03-03           NEWMONT           NUEVO   \n",
       "\n",
       "  Responsable de ingreso            Descripcion del proyecto  \\\n",
       "0       GUSTAVO MARTINEZ                       KIT DE SELLOS   \n",
       "1       GUSTAVO MARTINEZ                             CON COE   \n",
       "2       GUSTAVO MARTINEZ                 CILINDRO HIDRÁULICO   \n",
       "3       GUSTAVO MARTINEZ       CILINDRO ELEVACIÓN DE CUCHARA   \n",
       "4       GUSTAVO MARTINEZ  CILINDRO BRAZO MANIPULADOR SANDVIK   \n",
       "\n",
       "  Dimensiones [mm] anchoxlargoxalto   año  año-mes  \n",
       "0                               NaN  2021  2021-03  \n",
       "1                               NaN  2021  2021-03  \n",
       "2                               NaN  2021  2021-03  \n",
       "3                               NaN  2021  2021-03  \n",
       "4                               NaN  2021  2021-03  "
      ]
     },
     "execution_count": 15,
     "metadata": {},
     "output_type": "execute_result"
    }
   ],
   "source": [
    "path = './data/prepared data mixed.xlsx' \n",
    "df = pd.read_excel(path)\n",
    "\n",
    "#df.head(5)\n",
    "#df = df.dropna(axis = 1, how = 'all')\n",
    "\n",
    "df = df.sort_values(by = 'Fecha recepcion')\n",
    "df = df.reset_index(drop=True)\n",
    "\n",
    "# UPPERCASE: every attribute\n",
    "attributes = df.columns #df.iloc[:,:4].columns\n",
    "for a in attributes:\n",
    "\n",
    "    df[a] = df[a].str.upper()\n",
    "\n",
    "\n",
    "# New attribute: year-month\n",
    "df['año'] = df['Fecha recepcion'].str.split('-', expand = True)[0] \n",
    "df['año-mes'] = df['Fecha recepcion'].str.split('-', expand = True)[0] + '-' + df['Fecha recepcion'].str.split('-', expand = True)[1]\n",
    "\n",
    "df.head(5)"
   ]
  },
  {
   "cell_type": "code",
   "execution_count": 16,
   "metadata": {},
   "outputs": [
    {
     "name": "stdout",
     "output_type": "stream",
     "text": [
      "<class 'pandas.core.frame.DataFrame'>\n",
      "RangeIndex: 3053 entries, 0 to 3052\n",
      "Data columns (total 9 columns):\n",
      " #   Column                             Non-Null Count  Dtype \n",
      "---  ------                             --------------  ----- \n",
      " 0   Numero OT                          3053 non-null   object\n",
      " 1   Fecha recepcion                    3053 non-null   object\n",
      " 2   Cliente                            3051 non-null   object\n",
      " 3   Tipo de ingreso                    3053 non-null   object\n",
      " 4   Responsable de ingreso             3040 non-null   object\n",
      " 5   Descripcion del proyecto           3049 non-null   object\n",
      " 6   Dimensiones [mm] anchoxlargoxalto  1384 non-null   object\n",
      " 7   año                                3053 non-null   object\n",
      " 8   año-mes                            3053 non-null   object\n",
      "dtypes: object(9)\n",
      "memory usage: 214.8+ KB\n"
     ]
    }
   ],
   "source": [
    "df.to_csv('./data/prepared data.csv')\n",
    "df.info()"
   ]
  },
  {
   "cell_type": "markdown",
   "metadata": {},
   "source": [
    "## **II) EXPLORATION**\n",
    "\n",
    "- ### **II.1) How many clients the company have?**"
   ]
  },
  {
   "cell_type": "code",
   "execution_count": 17,
   "metadata": {},
   "outputs": [
    {
     "name": "stdout",
     "output_type": "stream",
     "text": [
      "The company have 485 different clients\n",
      "The company that send most projects is: MINA PIRQUITAS\n",
      "The top 30 is:\n"
     ]
    },
    {
     "data": {
      "text/plain": [
       "Cliente\n",
       "MINA PIRQUITAS         235\n",
       "YMAD                   154\n",
       "FINNING                 94\n",
       "HOLCIM                  85\n",
       "L'EQUIPE MONTEUR        81\n",
       "AGV FALCON DRILLING     75\n",
       "MICHELOTTI              69\n",
       "NEWMONT                 63\n",
       "CANTERAS DIQUECITO      54\n",
       "GRÚAS MARTIN            52\n",
       "AGV                     47\n",
       "SULLAIR                 45\n",
       "HDC                     43\n",
       "CANTESUR                43\n",
       "ALL PACK                43\n",
       "ILASA                   40\n",
       "CHEDIACK                38\n",
       "HOLCIM MALAGUEÑO        38\n",
       "VG                      37\n",
       "MINERA LA ALUMBRERA     36\n",
       "HORIZON                 35\n",
       "SULLAIR                 35\n",
       "CAPUTO                  31\n",
       "CAMSA                   29\n",
       "ASTORI                  29\n",
       "JUMI                    29\n",
       "MANSFIELD               29\n",
       "VELADERO                28\n",
       "DLS ARCHER LTD S.A      28\n",
       "HIDROTEC                28\n",
       "Name: count, dtype: int64"
      ]
     },
     "execution_count": 17,
     "metadata": {},
     "output_type": "execute_result"
    }
   ],
   "source": [
    "amount_clients = df['Cliente'].value_counts().shape[0]\n",
    "N = 30\n",
    "print(f\"The company have {amount_clients} different clients\")\n",
    "\n",
    "top_client = df['Cliente'].value_counts().index[0]\n",
    "print(f\"The company that send most projects is: {top_client}\")\n",
    "\n",
    "\n",
    "print(f\"The top {N} is:\")\n",
    "df['Cliente'].value_counts().head(N)"
   ]
  },
  {
   "cell_type": "markdown",
   "metadata": {},
   "source": [
    "### We found:\n",
    "- ### *There is 485 different clients*\n",
    "- ### *Most common customer: Mina Pirquitas (~7.7% of all the projects)**\n",
    "\n",
    "(*) Because, so far, the company count 3053 projects. Counting since the beginning of 2021."
   ]
  },
  {
   "cell_type": "markdown",
   "metadata": {},
   "source": [
    "- ### **II.2) How many *descriptive categories* the company have?**\n",
    "\n",
    "### First, let's check how much individual categories are in the dataset"
   ]
  },
  {
   "cell_type": "code",
   "execution_count": 18,
   "metadata": {},
   "outputs": [
    {
     "name": "stdout",
     "output_type": "stream",
     "text": [
      "The amount of different categories are, at least: 2130\n",
      "This means, that the whole set of projects 69.8 % of them, are unique\n"
     ]
    }
   ],
   "source": [
    "df['Descripcion del proyecto'] = df['Descripcion del proyecto'].fillna('otros').astype(str) # This is to avois NAN values for the label process\n",
    "amount_unique_pj = df['Descripcion del proyecto'].unique().shape[0] # How many discription without any filter\n",
    "\n",
    "print(f\"The amount of different categories are, at least: {amount_unique_pj}\")\n",
    "\n",
    "amount_pj = df.shape[0]\n",
    "ratio_unique_pj = round((amount_unique_pj/amount_pj)*100,1)\n",
    "print(f\"This means, that the whole set of projects {ratio_unique_pj} % of them, are unique\")\n"
   ]
  },
  {
   "cell_type": "markdown",
   "metadata": {},
   "source": [
    "### This means that, at this stage, that from all the 3053 projects, **~70%** are unique.\n",
    "### Let's explore if we can define a more wade range of categories"
   ]
  },
  {
   "cell_type": "code",
   "execution_count": 19,
   "metadata": {},
   "outputs": [
    {
     "data": {
      "text/plain": [
       "Descripcion del proyecto\n",
       "CILINDRO HIDRÁULICO                 100\n",
       "PIEZAS PARA FABRICAR                 35\n",
       "CILINDRO COE CORTO                   23\n",
       "CILINDRO CHUCK DE CHINA              22\n",
       "KIT DE SELLOS                        19\n",
       "CILINDRO DE PRENSA                   19\n",
       "CILINDRO COE                         19\n",
       "CILINDRO PIE DE APOYO                17\n",
       "GATO HIDRÁULICO                      17\n",
       "CILINDRO DE DIRECCION                14\n",
       "CILINDRO COE LARGO                   13\n",
       "KIT DE SELLOS COE                    11\n",
       "KIT DE SELLOS SEGUN MUESTRA          11\n",
       "CILINDRO DE LEVANTE                  11\n",
       "CILINDRO DE DIRECCIÓN                10\n",
       "CILINDRO SUSPENSIÓN TRASERA           9\n",
       "CILINDRO PARRILLA                     9\n",
       "CILINDRO SVK TH 540                   8\n",
       "CILINDROS DE TRASLACIÓN               8\n",
       "CILINDRO DE PLATAFORMA                8\n",
       "CILINDRO PULL DOWN                    8\n",
       "CILINDRO NEUMÁTICO                    7\n",
       "CILINDRO DE LEVANTE                   7\n",
       "CILINDRO RETRO                        7\n",
       "CILINDRO DEL STICK DE NPK             7\n",
       "CILINDRO PIE DE APOYO                 7\n",
       "CILINDRO HIDRÁULICO (EXPANSORAS)      7\n",
       "CILINDRO TOLVA SANDVIK                6\n",
       "CILINDRO EXPANSOR                     6\n",
       "CILINDRO NEUMATICO                    6\n",
       "Name: count, dtype: int64"
      ]
     },
     "execution_count": 19,
     "metadata": {},
     "output_type": "execute_result"
    }
   ],
   "source": [
    "df['Descripcion del proyecto'].value_counts().head(30)"
   ]
  },
  {
   "cell_type": "code",
   "execution_count": 20,
   "metadata": {},
   "outputs": [
    {
     "name": "stdout",
     "output_type": "stream",
     "text": [
      "The amount of projects, that are hydraulic cylinders are: 49.4 %\n"
     ]
    }
   ],
   "source": [
    "cylinders = round((df[df['Descripcion del proyecto'].str.contains(\"CILINDRO \")].shape[0] / df.shape[0])*100, 1)\n",
    "print(f\"The amount of projects, that are hydraulic cylinders are: {cylinders} %\")"
   ]
  },
  {
   "cell_type": "markdown",
   "metadata": {},
   "source": [
    "### It is not surprise that the most common descriptive category is:\n",
    "- #### *Hydraulic cylinders*: 49,4%\n",
    "\n",
    "### Due this, let's devide the df into two categories:\n",
    "- #### a) *Hidraulyc cylinders*\n",
    "- #### b) *NOT hidraulic cylinders*: this Dcatecory (descriptive category) is important because show a whole different aspect of the bussines, new opportunities\n",
    "\n",
    "### **II.2.a) Hidraulyc cylinders**"
   ]
  },
  {
   "cell_type": "code",
   "execution_count": 21,
   "metadata": {},
   "outputs": [
    {
     "name": "stdout",
     "output_type": "stream",
     "text": [
      "The company have 297 clients for the hydraulic cylinder bussines\n",
      "The company that send the high amount of hydraulic cylinder projects is: MINA PIRQUITAS\n",
      "The top 20 is:\n"
     ]
    },
    {
     "data": {
      "text/plain": [
       "Cliente\n",
       "MINA PIRQUITAS         113\n",
       "NEWMONT                 59\n",
       "L'EQUIPE MONTEUR        55\n",
       "HOLCIM                  54\n",
       "VG                      37\n",
       "YMAD                    36\n",
       "HDC                     33\n",
       "AGV FALCON DRILLING     32\n",
       "CAPUTO                  29\n",
       "ASTORI                  28\n",
       "VELADERO                27\n",
       "MINERA LA ALUMBRERA     27\n",
       "ALL PACK                27\n",
       "HORIZON                 26\n",
       "CANTERAS DIQUECITO      25\n",
       "AGV                     22\n",
       "WEG                     21\n",
       "CANTESUR                21\n",
       "SULLAIR                 20\n",
       "DLS ARCHER LTD S.A      18\n",
       "Name: count, dtype: int64"
      ]
     },
     "execution_count": 21,
     "metadata": {},
     "output_type": "execute_result"
    }
   ],
   "source": [
    "df_hydraulic = df[df['Descripcion del proyecto'].str.contains(\"CILINDRO \")]\n",
    "#df[df['Descripcion del proyecto'].str.contains(\"CILINDRO \")]['Cliente'].value_counts().head(20)\n",
    "\n",
    "amount_clients = df_hydraulic['Cliente'].value_counts().shape[0]\n",
    "N = 20\n",
    "print(f\"The company have {amount_clients} clients for the hydraulic cylinder bussines\")\n",
    "\n",
    "top_client = df_hydraulic['Cliente'].value_counts().index[0]\n",
    "print(f\"The company that send the high amount of hydraulic cylinder projects is: {top_client}\")\n",
    "\n",
    "print(f\"The top {N} is:\")\n",
    "df_hydraulic['Cliente'].value_counts().head(N)"
   ]
  },
  {
   "cell_type": "markdown",
   "metadata": {},
   "source": [
    "### **II.2.b) NOT Hidraulyc cylinders**"
   ]
  },
  {
   "cell_type": "code",
   "execution_count": 22,
   "metadata": {},
   "outputs": [
    {
     "name": "stdout",
     "output_type": "stream",
     "text": [
      "The company have 303 clients for the hydraulic cylinder bussines\n",
      "The company that send the high amount of NOT hydraulic cylinder projects is: MINA PIRQUITAS\n",
      "The top 20 is:\n"
     ]
    },
    {
     "data": {
      "text/plain": [
       "Cliente\n",
       "MINA PIRQUITAS              122\n",
       "YMAD                        118\n",
       "FINNING                      77\n",
       "MICHELOTTI                   59\n",
       "AGV FALCON DRILLING          43\n",
       "GRÚAS MARTIN                 39\n",
       "ILASA                        36\n",
       "HOLCIM                       31\n",
       "CANTERAS DIQUECITO           29\n",
       "HOLCIM MALAGUEÑO             28\n",
       "CHEDIACK                     28\n",
       "L'EQUIPE MONTEUR             26\n",
       "AGV                          25\n",
       "SULLAIR                      25\n",
       "SULLAIR                      24\n",
       "CERRO MORO                   23\n",
       "CANTESUR                     22\n",
       "JUMI                         21\n",
       "PERFORACIONES IGLESIANAS     20\n",
       "FINNING                      20\n",
       "Name: count, dtype: int64"
      ]
     },
     "execution_count": 22,
     "metadata": {},
     "output_type": "execute_result"
    }
   ],
   "source": [
    "#df[df['Descripcion del proyecto'].str.contains(\"CILINDRO \") == False]['Cliente'].value_counts().head(10)\n",
    "df_not_hydraulic = df[df['Descripcion del proyecto'].str.contains(\"CILINDRO \") == False]\n",
    "\n",
    "amount_clients = df_not_hydraulic['Cliente'].value_counts().shape[0]\n",
    "N = 20\n",
    "print(f\"The company have {amount_clients} clients for the hydraulic cylinder bussines\")\n",
    "\n",
    "top_client = df_not_hydraulic['Cliente'].value_counts().index[0]\n",
    "print(f\"The company that send the high amount of NOT hydraulic cylinder projects is: {top_client}\")\n",
    "\n",
    "print(f\"The top {N} is:\")\n",
    "df_not_hydraulic['Cliente'].value_counts().head(N)"
   ]
  },
  {
   "cell_type": "markdown",
   "metadata": {},
   "source": [
    "### What kind of projects we mean when we talk about **\"NOT HYDRAULIC CYLINDERS\"?**"
   ]
  },
  {
   "cell_type": "code",
   "execution_count": 23,
   "metadata": {},
   "outputs": [
    {
     "data": {
      "text/plain": [
       "Descripcion del proyecto\n",
       "PIEZAS PARA FABRICAR                    35\n",
       "KIT DE SELLOS                           19\n",
       "GATO HIDRÁULICO                         17\n",
       "KIT DE SELLOS COE                       11\n",
       "KIT DE SELLOS SEGUN MUESTRA             11\n",
       "CILINDROS DE TRASLACIÓN                  8\n",
       "PUNTA PARA AFILAR                        6\n",
       "ACTUADOR ROTATIVO PARKER                 6\n",
       "BOMBA HIDRÁULICA                         6\n",
       "MARTILLO HIDRÁULICO                      6\n",
       "DISPOSITIVO PULIDORA                     5\n",
       "METPOR_CILINDRO_DESPLAZ_30100-003-46     5\n",
       "RESORTE DE NITROGENO T4SC                5\n",
       "GATO DE SISTEMA BLOQUEO TELSUMITH        5\n",
       "BOMBA MANUAL                             4\n",
       "CONTENEDOR 482-3-62                      4\n",
       "CAMISA COE CORTA P/ HERMANAR             4\n",
       "otros                                    4\n",
       "PRENSA HIDRAULICA                        4\n",
       "BOMBA HIDRAULICA NIR                     4\n",
       "Name: count, dtype: int64"
      ]
     },
     "execution_count": 23,
     "metadata": {},
     "output_type": "execute_result"
    }
   ],
   "source": [
    "df_not_hydraulic['Descripcion del proyecto'].value_counts().head(20)"
   ]
  },
  {
   "cell_type": "code",
   "execution_count": 24,
   "metadata": {},
   "outputs": [
    {
     "name": "stdout",
     "output_type": "stream",
     "text": [
      "For the NOT CYLINDER CATEGORY, the amount of projects that are PIEZAS PARA FABRICAR are: 2.3 %\n",
      "For the NOT CYLINDER CATEGORY, the amount of projects that are KIT DE SELLOS are: 8.4 %\n",
      "For the NOT CYLINDER CATEGORY, the amount of projects that are GATO HIDRÁULICO are: 1.6 %\n"
     ]
    }
   ],
   "source": [
    "not_cylinders_list = ['PIEZAS PARA FABRICAR', 'KIT DE SELLOS', 'GATO HIDRÁULICO']\n",
    "not_cylinders = df_not_hydraulic.shape[0] #df[df['Descripcion del proyecto'].str.contains(\"CILINDRO \") == False].shape[0]\n",
    "\n",
    "for nc in not_cylinders_list:\n",
    "\n",
    "    #nc_amount = round((df[df['Descripcion del proyecto'].str.contains(nc)].shape[0] / not_cylinders)*100, 1)\n",
    "    nc_amount = round((df_not_hydraulic[df_not_hydraulic['Descripcion del proyecto'].str.contains(nc)].shape[0] / not_cylinders)*100, 1)\n",
    "    print(f\"For the NOT CYLINDER CATEGORY, the amount of projects that are {nc} are: {nc_amount} %\")"
   ]
  },
  {
   "cell_type": "markdown",
   "metadata": {},
   "source": [
    "### **II.3) Whom are the responsable of the reception os this projects?**\n",
    "\n",
    "- #### **In situ**: projects are leave on the company door\n",
    "- #### **Office contact**: client communicate with thecnical office to point the job that need to be done (\"Oficina Técnica\")"
   ]
  },
  {
   "cell_type": "markdown",
   "metadata": {},
   "source": [
    "### **II.3.a) Hidraulyc cylinders**"
   ]
  },
  {
   "cell_type": "code",
   "execution_count": 25,
   "metadata": {},
   "outputs": [
    {
     "name": "stdout",
     "output_type": "stream",
     "text": [
      "Technical office (\"OFICINA TÉCNICA\"), recive the 22.4% of all HIDRAULIC CYLINDERS\n"
     ]
    },
    {
     "data": {
      "text/plain": [
       "Responsable de ingreso\n",
       "GUILLERMO SANCHEZ      922\n",
       "OFICINA TÉCNICA        337\n",
       "GUSTAVO MARTINEZ       136\n",
       "FERNANDO HEREDIA        67\n",
       "FERNÁNDEZ MAURICIO      26\n",
       "ROQUE MICANGELLI        13\n",
       "LUIS MATA                3\n",
       "Name: count, dtype: int64"
      ]
     },
     "execution_count": 25,
     "metadata": {},
     "output_type": "execute_result"
    }
   ],
   "source": [
    "n_cylinders = df_hydraulic.shape[0]\n",
    "n_cylinders_office = df_hydraulic[df_hydraulic['Responsable de ingreso'] == 'OFICINA TÉCNICA'].shape[0]\n",
    "ratio = round((n_cylinders_office/n_cylinders)*100,1)\n",
    "\n",
    "print(f\"Technical office (\\\"OFICINA TÉCNICA\\\"), recive the {ratio}% of all HIDRAULIC CYLINDERS\")\n",
    "\n",
    "df_hydraulic['Responsable de ingreso'].value_counts()"
   ]
  },
  {
   "cell_type": "markdown",
   "metadata": {},
   "source": [
    "### **II.3.b) NOT Hidraulyc cylinders**"
   ]
  },
  {
   "cell_type": "code",
   "execution_count": 45,
   "metadata": {},
   "outputs": [
    {
     "name": "stdout",
     "output_type": "stream",
     "text": [
      "Technical office (\"OFICINA TÉCNICA\"), recive the 44.4% of all NOT HIDRAULIC CYLINDERS\n"
     ]
    },
    {
     "data": {
      "text/plain": [
       "Responsable de ingreso\n",
       "OFICINA TÉCNICA        687\n",
       "GUILLERMO SANCHEZ      624\n",
       "GUSTAVO MARTINEZ       127\n",
       "FERNANDO HEREDIA        43\n",
       "ROQUE MICANGELLI        20\n",
       "MARCELO VARELA          17\n",
       "FERNÁNDEZ MAURICIO      16\n",
       "GUILLERMO SÁNCHEZ        1\n",
       "LUIS MATA                1\n",
       "Name: count, dtype: int64"
      ]
     },
     "execution_count": 45,
     "metadata": {},
     "output_type": "execute_result"
    }
   ],
   "source": [
    "n_cylinders = df_not_hydraulic.shape[0]\n",
    "n_cylinders_office = df_not_hydraulic[df_not_hydraulic['Responsable de ingreso'] == 'OFICINA TÉCNICA'].shape[0]\n",
    "ratio = round((n_cylinders_office/n_cylinders)*100,1)\n",
    "\n",
    "print(f\"Technical office (\\\"OFICINA TÉCNICA\\\"), recive the {ratio}% of all NOT HIDRAULIC CYLINDERS\")\n",
    "\n",
    "df_not_hydraulic['Responsable de ingreso'].value_counts()"
   ]
  },
  {
   "cell_type": "markdown",
   "metadata": {},
   "source": [
    "- ### **II.4) PROJECTS VS TIME**\n",
    "\n",
    "### Category by reception:"
   ]
  },
  {
   "cell_type": "code",
   "execution_count": 26,
   "metadata": {},
   "outputs": [
    {
     "name": "stdout",
     "output_type": "stream",
     "text": [
      "The descriptive categories are: NUEVO, RECLAMO, REINGRESO\n"
     ]
    },
    {
     "data": {
      "text/html": [
       "<div>\n",
       "<style scoped>\n",
       "    .dataframe tbody tr th:only-of-type {\n",
       "        vertical-align: middle;\n",
       "    }\n",
       "\n",
       "    .dataframe tbody tr th {\n",
       "        vertical-align: top;\n",
       "    }\n",
       "\n",
       "    .dataframe thead th {\n",
       "        text-align: right;\n",
       "    }\n",
       "</style>\n",
       "<table border=\"1\" class=\"dataframe\">\n",
       "  <thead>\n",
       "    <tr style=\"text-align: right;\">\n",
       "      <th></th>\n",
       "      <th>Numero OT</th>\n",
       "      <th>Fecha recepcion</th>\n",
       "      <th>Cliente</th>\n",
       "      <th>Tipo de ingreso</th>\n",
       "      <th>Responsable de ingreso</th>\n",
       "      <th>Descripcion del proyecto</th>\n",
       "      <th>Dimensiones [mm] anchoxlargoxalto</th>\n",
       "      <th>año</th>\n",
       "      <th>año-mes</th>\n",
       "    </tr>\n",
       "  </thead>\n",
       "  <tbody>\n",
       "    <tr>\n",
       "      <th>0</th>\n",
       "      <td>5580</td>\n",
       "      <td>2021-03-02</td>\n",
       "      <td>ALL PACK</td>\n",
       "      <td>NUEVO</td>\n",
       "      <td>GUSTAVO MARTINEZ</td>\n",
       "      <td>KIT DE SELLOS</td>\n",
       "      <td>NaN</td>\n",
       "      <td>2021</td>\n",
       "      <td>2021-03</td>\n",
       "    </tr>\n",
       "    <tr>\n",
       "      <th>1</th>\n",
       "      <td>5581</td>\n",
       "      <td>2021-03-02</td>\n",
       "      <td>OLIVOS DEL VALLE</td>\n",
       "      <td>NUEVO</td>\n",
       "      <td>GUSTAVO MARTINEZ</td>\n",
       "      <td>CON COE</td>\n",
       "      <td>NaN</td>\n",
       "      <td>2021</td>\n",
       "      <td>2021-03</td>\n",
       "    </tr>\n",
       "    <tr>\n",
       "      <th>2</th>\n",
       "      <td>5579</td>\n",
       "      <td>2021-03-02</td>\n",
       "      <td>FRAU ALBORS</td>\n",
       "      <td>NUEVO</td>\n",
       "      <td>GUSTAVO MARTINEZ</td>\n",
       "      <td>CILINDRO HIDRÁULICO</td>\n",
       "      <td>NaN</td>\n",
       "      <td>2021</td>\n",
       "      <td>2021-03</td>\n",
       "    </tr>\n",
       "    <tr>\n",
       "      <th>3</th>\n",
       "      <td>5583</td>\n",
       "      <td>2021-03-03</td>\n",
       "      <td>SULLAIR</td>\n",
       "      <td>NUEVO</td>\n",
       "      <td>GUSTAVO MARTINEZ</td>\n",
       "      <td>CILINDRO ELEVACIÓN DE CUCHARA</td>\n",
       "      <td>NaN</td>\n",
       "      <td>2021</td>\n",
       "      <td>2021-03</td>\n",
       "    </tr>\n",
       "  </tbody>\n",
       "</table>\n",
       "</div>"
      ],
      "text/plain": [
       "  Numero OT Fecha recepcion           Cliente Tipo de ingreso  \\\n",
       "0      5580      2021-03-02          ALL PACK           NUEVO   \n",
       "1      5581      2021-03-02  OLIVOS DEL VALLE           NUEVO   \n",
       "2      5579      2021-03-02       FRAU ALBORS           NUEVO   \n",
       "3      5583      2021-03-03           SULLAIR           NUEVO   \n",
       "\n",
       "  Responsable de ingreso       Descripcion del proyecto  \\\n",
       "0       GUSTAVO MARTINEZ                  KIT DE SELLOS   \n",
       "1       GUSTAVO MARTINEZ                        CON COE   \n",
       "2       GUSTAVO MARTINEZ            CILINDRO HIDRÁULICO   \n",
       "3       GUSTAVO MARTINEZ  CILINDRO ELEVACIÓN DE CUCHARA   \n",
       "\n",
       "  Dimensiones [mm] anchoxlargoxalto   año  año-mes  \n",
       "0                               NaN  2021  2021-03  \n",
       "1                               NaN  2021  2021-03  \n",
       "2                               NaN  2021  2021-03  \n",
       "3                               NaN  2021  2021-03  "
      ]
     },
     "execution_count": 26,
     "metadata": {},
     "output_type": "execute_result"
    }
   ],
   "source": [
    "#df['año'] = df['Fecha recepcion'].str.split('-', expand = True)[0] \n",
    "#df['año-mes'] = df['Fecha recepcion'].str.split('-', expand = True)[0] + '-' + df['Fecha recepcion'].str.split('-', expand = True)[1]\n",
    "category_by_description = ', '.join(list(df['Tipo de ingreso'].unique()))\n",
    "print(f'The descriptive categories are: {category_by_description}')\n",
    "\n",
    "df.head(4)"
   ]
  },
  {
   "cell_type": "markdown",
   "metadata": {},
   "source": [
    "### **II.4.a) All projects VS time**"
   ]
  },
  {
   "cell_type": "code",
   "execution_count": 27,
   "metadata": {},
   "outputs": [
    {
     "data": {
      "text/html": [
       "<div>\n",
       "<style scoped>\n",
       "    .dataframe tbody tr th:only-of-type {\n",
       "        vertical-align: middle;\n",
       "    }\n",
       "\n",
       "    .dataframe tbody tr th {\n",
       "        vertical-align: top;\n",
       "    }\n",
       "\n",
       "    .dataframe thead th {\n",
       "        text-align: right;\n",
       "    }\n",
       "</style>\n",
       "<table border=\"1\" class=\"dataframe\">\n",
       "  <thead>\n",
       "    <tr style=\"text-align: right;\">\n",
       "      <th></th>\n",
       "      <th>ALL Projects</th>\n",
       "      <th>NUEVO</th>\n",
       "      <th>RECLAMO</th>\n",
       "      <th>REINGRESO</th>\n",
       "    </tr>\n",
       "  </thead>\n",
       "  <tbody>\n",
       "    <tr>\n",
       "      <th>count</th>\n",
       "      <td>47.000000</td>\n",
       "      <td>47.000000</td>\n",
       "      <td>47.000000</td>\n",
       "      <td>47.000000</td>\n",
       "    </tr>\n",
       "    <tr>\n",
       "      <th>mean</th>\n",
       "      <td>64.957447</td>\n",
       "      <td>60.234043</td>\n",
       "      <td>1.382979</td>\n",
       "      <td>3.340426</td>\n",
       "    </tr>\n",
       "    <tr>\n",
       "      <th>std</th>\n",
       "      <td>18.585826</td>\n",
       "      <td>17.111162</td>\n",
       "      <td>1.973225</td>\n",
       "      <td>3.073566</td>\n",
       "    </tr>\n",
       "    <tr>\n",
       "      <th>min</th>\n",
       "      <td>29.000000</td>\n",
       "      <td>28.000000</td>\n",
       "      <td>0.000000</td>\n",
       "      <td>0.000000</td>\n",
       "    </tr>\n",
       "    <tr>\n",
       "      <th>25%</th>\n",
       "      <td>52.000000</td>\n",
       "      <td>49.000000</td>\n",
       "      <td>0.000000</td>\n",
       "      <td>1.000000</td>\n",
       "    </tr>\n",
       "    <tr>\n",
       "      <th>50%</th>\n",
       "      <td>66.000000</td>\n",
       "      <td>62.000000</td>\n",
       "      <td>1.000000</td>\n",
       "      <td>2.000000</td>\n",
       "    </tr>\n",
       "    <tr>\n",
       "      <th>75%</th>\n",
       "      <td>74.000000</td>\n",
       "      <td>69.500000</td>\n",
       "      <td>2.000000</td>\n",
       "      <td>4.500000</td>\n",
       "    </tr>\n",
       "    <tr>\n",
       "      <th>max</th>\n",
       "      <td>106.000000</td>\n",
       "      <td>102.000000</td>\n",
       "      <td>10.000000</td>\n",
       "      <td>15.000000</td>\n",
       "    </tr>\n",
       "  </tbody>\n",
       "</table>\n",
       "</div>"
      ],
      "text/plain": [
       "       ALL Projects       NUEVO    RECLAMO  REINGRESO\n",
       "count     47.000000   47.000000  47.000000  47.000000\n",
       "mean      64.957447   60.234043   1.382979   3.340426\n",
       "std       18.585826   17.111162   1.973225   3.073566\n",
       "min       29.000000   28.000000   0.000000   0.000000\n",
       "25%       52.000000   49.000000   0.000000   1.000000\n",
       "50%       66.000000   62.000000   1.000000   2.000000\n",
       "75%       74.000000   69.500000   2.000000   4.500000\n",
       "max      106.000000  102.000000  10.000000  15.000000"
      ]
     },
     "execution_count": 27,
     "metadata": {},
     "output_type": "execute_result"
    }
   ],
   "source": [
    "# Projects by type\n",
    "\n",
    "df_pj = df['año-mes'].value_counts().sort_index() # This returns a Series order by index\n",
    "df_pj = df_pj.to_frame(name='ALL Projects') # This turns the series into a pandas dataframe\n",
    "\n",
    "category_p = df['Tipo de ingreso'].unique()\n",
    "\n",
    "for c in category_p:\n",
    "\n",
    "    df_pj_c = df[df['Tipo de ingreso'] == c]['año-mes'].value_counts().sort_index() # This returns a Series\n",
    "    df_pj_c = df_pj_c.to_frame(name= c) # This turns the series into a pandas dataframe\n",
    "\n",
    "    df_pj = pd.concat([df_pj, df_pj_c], axis=1)\n",
    "\n",
    "df_pj = df_pj.fillna(0)\n",
    "\n",
    "df_pj.to_csv('./data/Projects_vs_time.csv')\n",
    "df_pj.describe()"
   ]
  },
  {
   "cell_type": "markdown",
   "metadata": {},
   "source": [
    "### Turning the previous dataset into percent:"
   ]
  },
  {
   "cell_type": "code",
   "execution_count": 28,
   "metadata": {},
   "outputs": [
    {
     "data": {
      "text/html": [
       "<div>\n",
       "<style scoped>\n",
       "    .dataframe tbody tr th:only-of-type {\n",
       "        vertical-align: middle;\n",
       "    }\n",
       "\n",
       "    .dataframe tbody tr th {\n",
       "        vertical-align: top;\n",
       "    }\n",
       "\n",
       "    .dataframe thead th {\n",
       "        text-align: right;\n",
       "    }\n",
       "</style>\n",
       "<table border=\"1\" class=\"dataframe\">\n",
       "  <thead>\n",
       "    <tr style=\"text-align: right;\">\n",
       "      <th></th>\n",
       "      <th>NUEVO</th>\n",
       "      <th>RECLAMO</th>\n",
       "      <th>REINGRESO</th>\n",
       "    </tr>\n",
       "  </thead>\n",
       "  <tbody>\n",
       "    <tr>\n",
       "      <th>count</th>\n",
       "      <td>47.000000</td>\n",
       "      <td>47.000000</td>\n",
       "      <td>47.000000</td>\n",
       "    </tr>\n",
       "    <tr>\n",
       "      <th>mean</th>\n",
       "      <td>93.017021</td>\n",
       "      <td>2.074468</td>\n",
       "      <td>4.910638</td>\n",
       "    </tr>\n",
       "    <tr>\n",
       "      <th>std</th>\n",
       "      <td>4.758165</td>\n",
       "      <td>2.850207</td>\n",
       "      <td>4.041644</td>\n",
       "    </tr>\n",
       "    <tr>\n",
       "      <th>min</th>\n",
       "      <td>82.400000</td>\n",
       "      <td>0.000000</td>\n",
       "      <td>0.000000</td>\n",
       "    </tr>\n",
       "    <tr>\n",
       "      <th>25%</th>\n",
       "      <td>88.950000</td>\n",
       "      <td>0.000000</td>\n",
       "      <td>2.150000</td>\n",
       "    </tr>\n",
       "    <tr>\n",
       "      <th>50%</th>\n",
       "      <td>94.200000</td>\n",
       "      <td>1.200000</td>\n",
       "      <td>3.700000</td>\n",
       "    </tr>\n",
       "    <tr>\n",
       "      <th>75%</th>\n",
       "      <td>96.600000</td>\n",
       "      <td>3.200000</td>\n",
       "      <td>7.400000</td>\n",
       "    </tr>\n",
       "    <tr>\n",
       "      <th>max</th>\n",
       "      <td>100.000000</td>\n",
       "      <td>12.500000</td>\n",
       "      <td>16.500000</td>\n",
       "    </tr>\n",
       "  </tbody>\n",
       "</table>\n",
       "</div>"
      ],
      "text/plain": [
       "            NUEVO    RECLAMO  REINGRESO\n",
       "count   47.000000  47.000000  47.000000\n",
       "mean    93.017021   2.074468   4.910638\n",
       "std      4.758165   2.850207   4.041644\n",
       "min     82.400000   0.000000   0.000000\n",
       "25%     88.950000   0.000000   2.150000\n",
       "50%     94.200000   1.200000   3.700000\n",
       "75%     96.600000   3.200000   7.400000\n",
       "max    100.000000  12.500000  16.500000"
      ]
     },
     "execution_count": 28,
     "metadata": {},
     "output_type": "execute_result"
    }
   ],
   "source": [
    "category_p = df_pj.iloc[:,1:].columns\n",
    "df_pj_p = pd.DataFrame()\n",
    "\n",
    "for c in category_p:\n",
    "\n",
    "    df_pj_p[c] = round((df_pj[c] / df_pj[df_pj.columns[0]])*100, 1)\n",
    "\n",
    "df_pj_p.to_csv('./data/PercentProjects_vs_time.csv')\n",
    "df_pj_p.describe()"
   ]
  },
  {
   "cell_type": "markdown",
   "metadata": {},
   "source": [
    "### **II.4.b) Hydraulic Cylinders Projects VS time**"
   ]
  },
  {
   "cell_type": "code",
   "execution_count": 29,
   "metadata": {},
   "outputs": [
    {
     "data": {
      "text/html": [
       "<div>\n",
       "<style scoped>\n",
       "    .dataframe tbody tr th:only-of-type {\n",
       "        vertical-align: middle;\n",
       "    }\n",
       "\n",
       "    .dataframe tbody tr th {\n",
       "        vertical-align: top;\n",
       "    }\n",
       "\n",
       "    .dataframe thead th {\n",
       "        text-align: right;\n",
       "    }\n",
       "</style>\n",
       "<table border=\"1\" class=\"dataframe\">\n",
       "  <thead>\n",
       "    <tr style=\"text-align: right;\">\n",
       "      <th></th>\n",
       "      <th>Hydraulic Cylinders Projects</th>\n",
       "      <th>NUEVO</th>\n",
       "      <th>RECLAMO</th>\n",
       "      <th>REINGRESO</th>\n",
       "    </tr>\n",
       "  </thead>\n",
       "  <tbody>\n",
       "    <tr>\n",
       "      <th>count</th>\n",
       "      <td>47.000000</td>\n",
       "      <td>47.000000</td>\n",
       "      <td>47.000000</td>\n",
       "      <td>47.000000</td>\n",
       "    </tr>\n",
       "    <tr>\n",
       "      <th>mean</th>\n",
       "      <td>32.063830</td>\n",
       "      <td>28.765957</td>\n",
       "      <td>0.872340</td>\n",
       "      <td>2.425532</td>\n",
       "    </tr>\n",
       "    <tr>\n",
       "      <th>std</th>\n",
       "      <td>11.085447</td>\n",
       "      <td>9.330205</td>\n",
       "      <td>1.568952</td>\n",
       "      <td>2.724643</td>\n",
       "    </tr>\n",
       "    <tr>\n",
       "      <th>min</th>\n",
       "      <td>11.000000</td>\n",
       "      <td>11.000000</td>\n",
       "      <td>0.000000</td>\n",
       "      <td>0.000000</td>\n",
       "    </tr>\n",
       "    <tr>\n",
       "      <th>25%</th>\n",
       "      <td>25.500000</td>\n",
       "      <td>22.500000</td>\n",
       "      <td>0.000000</td>\n",
       "      <td>1.000000</td>\n",
       "    </tr>\n",
       "    <tr>\n",
       "      <th>50%</th>\n",
       "      <td>32.000000</td>\n",
       "      <td>28.000000</td>\n",
       "      <td>0.000000</td>\n",
       "      <td>2.000000</td>\n",
       "    </tr>\n",
       "    <tr>\n",
       "      <th>75%</th>\n",
       "      <td>40.500000</td>\n",
       "      <td>37.000000</td>\n",
       "      <td>1.000000</td>\n",
       "      <td>3.500000</td>\n",
       "    </tr>\n",
       "    <tr>\n",
       "      <th>max</th>\n",
       "      <td>57.000000</td>\n",
       "      <td>45.000000</td>\n",
       "      <td>8.000000</td>\n",
       "      <td>14.000000</td>\n",
       "    </tr>\n",
       "  </tbody>\n",
       "</table>\n",
       "</div>"
      ],
      "text/plain": [
       "       Hydraulic Cylinders Projects      NUEVO    RECLAMO  REINGRESO\n",
       "count                     47.000000  47.000000  47.000000  47.000000\n",
       "mean                      32.063830  28.765957   0.872340   2.425532\n",
       "std                       11.085447   9.330205   1.568952   2.724643\n",
       "min                       11.000000  11.000000   0.000000   0.000000\n",
       "25%                       25.500000  22.500000   0.000000   1.000000\n",
       "50%                       32.000000  28.000000   0.000000   2.000000\n",
       "75%                       40.500000  37.000000   1.000000   3.500000\n",
       "max                       57.000000  45.000000   8.000000  14.000000"
      ]
     },
     "execution_count": 29,
     "metadata": {},
     "output_type": "execute_result"
    }
   ],
   "source": [
    "# Projects by type: HYDRAULIC CYLINDERS\n",
    "\n",
    "df_pj_h = df_hydraulic['año-mes'].value_counts().sort_index() # This returns a Series\n",
    "df_pj_h = df_pj_h.to_frame(name='Hydraulic Cylinders Projects') # Series >>> pandas dataframe, the one to add the next ones.\n",
    "\n",
    "category_p = df_hydraulic['Tipo de ingreso'].unique()\n",
    "\n",
    "for c in category_p:\n",
    "\n",
    "    df_pj_c = df_hydraulic[df_hydraulic['Tipo de ingreso'] == c]['año-mes'].value_counts().sort_index() # This returns a Series\n",
    "    df_pj_c = df_pj_c.to_frame(name= c) # This turns the series into a pandas dataframe\n",
    "    df_pj_h = pd.concat([df_pj_h, df_pj_c], axis=1)\n",
    "\n",
    "df_pj_h = df_pj_h.fillna(0)\n",
    "df_pj_h.to_csv('./data/HydraulicProjects_vs_time.csv')\n",
    "df_pj_h.describe()"
   ]
  },
  {
   "cell_type": "markdown",
   "metadata": {},
   "source": [
    "### hydraulic cylinder projects: by percent"
   ]
  },
  {
   "cell_type": "code",
   "execution_count": 30,
   "metadata": {},
   "outputs": [
    {
     "data": {
      "text/html": [
       "<div>\n",
       "<style scoped>\n",
       "    .dataframe tbody tr th:only-of-type {\n",
       "        vertical-align: middle;\n",
       "    }\n",
       "\n",
       "    .dataframe tbody tr th {\n",
       "        vertical-align: top;\n",
       "    }\n",
       "\n",
       "    .dataframe thead th {\n",
       "        text-align: right;\n",
       "    }\n",
       "</style>\n",
       "<table border=\"1\" class=\"dataframe\">\n",
       "  <thead>\n",
       "    <tr style=\"text-align: right;\">\n",
       "      <th></th>\n",
       "      <th>NUEVO</th>\n",
       "      <th>RECLAMO</th>\n",
       "      <th>REINGRESO</th>\n",
       "    </tr>\n",
       "  </thead>\n",
       "  <tbody>\n",
       "    <tr>\n",
       "      <th>count</th>\n",
       "      <td>47.000000</td>\n",
       "      <td>47.000000</td>\n",
       "      <td>47.000000</td>\n",
       "    </tr>\n",
       "    <tr>\n",
       "      <th>mean</th>\n",
       "      <td>90.668085</td>\n",
       "      <td>2.670213</td>\n",
       "      <td>6.665957</td>\n",
       "    </tr>\n",
       "    <tr>\n",
       "      <th>std</th>\n",
       "      <td>6.871431</td>\n",
       "      <td>4.681087</td>\n",
       "      <td>6.169042</td>\n",
       "    </tr>\n",
       "    <tr>\n",
       "      <th>min</th>\n",
       "      <td>73.900000</td>\n",
       "      <td>0.000000</td>\n",
       "      <td>0.000000</td>\n",
       "    </tr>\n",
       "    <tr>\n",
       "      <th>25%</th>\n",
       "      <td>85.300000</td>\n",
       "      <td>0.000000</td>\n",
       "      <td>2.350000</td>\n",
       "    </tr>\n",
       "    <tr>\n",
       "      <th>50%</th>\n",
       "      <td>92.300000</td>\n",
       "      <td>0.000000</td>\n",
       "      <td>6.100000</td>\n",
       "    </tr>\n",
       "    <tr>\n",
       "      <th>75%</th>\n",
       "      <td>95.950000</td>\n",
       "      <td>3.800000</td>\n",
       "      <td>9.450000</td>\n",
       "    </tr>\n",
       "    <tr>\n",
       "      <th>max</th>\n",
       "      <td>100.000000</td>\n",
       "      <td>17.400000</td>\n",
       "      <td>24.600000</td>\n",
       "    </tr>\n",
       "  </tbody>\n",
       "</table>\n",
       "</div>"
      ],
      "text/plain": [
       "            NUEVO    RECLAMO  REINGRESO\n",
       "count   47.000000  47.000000  47.000000\n",
       "mean    90.668085   2.670213   6.665957\n",
       "std      6.871431   4.681087   6.169042\n",
       "min     73.900000   0.000000   0.000000\n",
       "25%     85.300000   0.000000   2.350000\n",
       "50%     92.300000   0.000000   6.100000\n",
       "75%     95.950000   3.800000   9.450000\n",
       "max    100.000000  17.400000  24.600000"
      ]
     },
     "execution_count": 30,
     "metadata": {},
     "output_type": "execute_result"
    }
   ],
   "source": [
    "category_p = df_pj_h.iloc[:,1:].columns\n",
    "df_pj_h_p = pd.DataFrame()\n",
    "\n",
    "for c in category_p:\n",
    "\n",
    "    df_pj_h_p[c] = round((df_pj_h[c] / df_pj_h[df_pj_h.columns[0]])*100, 1)\n",
    "\n",
    "df_pj_h_p.to_csv('./data/HydraulicProjectsPercent_vs_time.csv')\n",
    "df_pj_h_p.describe()"
   ]
  },
  {
   "cell_type": "markdown",
   "metadata": {},
   "source": [
    "### **II.4.c) NOT Hydraulic Cylinders Projects VS time**"
   ]
  },
  {
   "cell_type": "code",
   "execution_count": 31,
   "metadata": {},
   "outputs": [
    {
     "data": {
      "text/html": [
       "<div>\n",
       "<style scoped>\n",
       "    .dataframe tbody tr th:only-of-type {\n",
       "        vertical-align: middle;\n",
       "    }\n",
       "\n",
       "    .dataframe tbody tr th {\n",
       "        vertical-align: top;\n",
       "    }\n",
       "\n",
       "    .dataframe thead th {\n",
       "        text-align: right;\n",
       "    }\n",
       "</style>\n",
       "<table border=\"1\" class=\"dataframe\">\n",
       "  <thead>\n",
       "    <tr style=\"text-align: right;\">\n",
       "      <th></th>\n",
       "      <th>NOT Hydraulic Cylinders Projects</th>\n",
       "      <th>NUEVO</th>\n",
       "      <th>RECLAMO</th>\n",
       "      <th>REINGRESO</th>\n",
       "    </tr>\n",
       "  </thead>\n",
       "  <tbody>\n",
       "    <tr>\n",
       "      <th>count</th>\n",
       "      <td>47.000000</td>\n",
       "      <td>47.000000</td>\n",
       "      <td>47.000000</td>\n",
       "      <td>47.000000</td>\n",
       "    </tr>\n",
       "    <tr>\n",
       "      <th>mean</th>\n",
       "      <td>32.893617</td>\n",
       "      <td>31.468085</td>\n",
       "      <td>0.510638</td>\n",
       "      <td>0.914894</td>\n",
       "    </tr>\n",
       "    <tr>\n",
       "      <th>std</th>\n",
       "      <td>11.944135</td>\n",
       "      <td>11.747065</td>\n",
       "      <td>0.804129</td>\n",
       "      <td>1.017879</td>\n",
       "    </tr>\n",
       "    <tr>\n",
       "      <th>min</th>\n",
       "      <td>14.000000</td>\n",
       "      <td>13.000000</td>\n",
       "      <td>0.000000</td>\n",
       "      <td>0.000000</td>\n",
       "    </tr>\n",
       "    <tr>\n",
       "      <th>25%</th>\n",
       "      <td>26.000000</td>\n",
       "      <td>24.000000</td>\n",
       "      <td>0.000000</td>\n",
       "      <td>0.000000</td>\n",
       "    </tr>\n",
       "    <tr>\n",
       "      <th>50%</th>\n",
       "      <td>31.000000</td>\n",
       "      <td>29.000000</td>\n",
       "      <td>0.000000</td>\n",
       "      <td>1.000000</td>\n",
       "    </tr>\n",
       "    <tr>\n",
       "      <th>75%</th>\n",
       "      <td>38.000000</td>\n",
       "      <td>37.000000</td>\n",
       "      <td>1.000000</td>\n",
       "      <td>2.000000</td>\n",
       "    </tr>\n",
       "    <tr>\n",
       "      <th>max</th>\n",
       "      <td>73.000000</td>\n",
       "      <td>71.000000</td>\n",
       "      <td>3.000000</td>\n",
       "      <td>4.000000</td>\n",
       "    </tr>\n",
       "  </tbody>\n",
       "</table>\n",
       "</div>"
      ],
      "text/plain": [
       "       NOT Hydraulic Cylinders Projects      NUEVO    RECLAMO  REINGRESO\n",
       "count                         47.000000  47.000000  47.000000  47.000000\n",
       "mean                          32.893617  31.468085   0.510638   0.914894\n",
       "std                           11.944135  11.747065   0.804129   1.017879\n",
       "min                           14.000000  13.000000   0.000000   0.000000\n",
       "25%                           26.000000  24.000000   0.000000   0.000000\n",
       "50%                           31.000000  29.000000   0.000000   1.000000\n",
       "75%                           38.000000  37.000000   1.000000   2.000000\n",
       "max                           73.000000  71.000000   3.000000   4.000000"
      ]
     },
     "execution_count": 31,
     "metadata": {},
     "output_type": "execute_result"
    }
   ],
   "source": [
    "# Projects by type: HYDRAULIC CYLINDERS\n",
    "\n",
    "df_pj_nh = df_not_hydraulic['año-mes'].value_counts().sort_index() # This returns a Series\n",
    "df_pj_nh = df_pj_nh.to_frame(name='NOT Hydraulic Cylinders Projects') # Series >>> pandas dataframe, the one to add the next ones.\n",
    "\n",
    "category_p = df_not_hydraulic['Tipo de ingreso'].unique()\n",
    "\n",
    "for c in category_p:\n",
    "\n",
    "    df_pj_c = df_not_hydraulic[df_not_hydraulic['Tipo de ingreso'] == c]['año-mes'].value_counts().sort_index() # This returns a Series\n",
    "    df_pj_c = df_pj_c.to_frame(name= c) # This turns the series into a pandas dataframe\n",
    "    df_pj_nh = pd.concat([df_pj_nh, df_pj_c], axis=1)\n",
    "\n",
    "df_pj_nh = df_pj_nh.fillna(0)\n",
    "df_pj_nh.to_csv('./data/NotHydraulicProjects_vs_time.csv')\n",
    "df_pj_nh.describe()"
   ]
  },
  {
   "cell_type": "markdown",
   "metadata": {},
   "source": [
    "### NOT hydraulic cylinder projects: by percent"
   ]
  },
  {
   "cell_type": "code",
   "execution_count": 32,
   "metadata": {},
   "outputs": [
    {
     "data": {
      "text/html": [
       "<div>\n",
       "<style scoped>\n",
       "    .dataframe tbody tr th:only-of-type {\n",
       "        vertical-align: middle;\n",
       "    }\n",
       "\n",
       "    .dataframe tbody tr th {\n",
       "        vertical-align: top;\n",
       "    }\n",
       "\n",
       "    .dataframe thead th {\n",
       "        text-align: right;\n",
       "    }\n",
       "</style>\n",
       "<table border=\"1\" class=\"dataframe\">\n",
       "  <thead>\n",
       "    <tr style=\"text-align: right;\">\n",
       "      <th></th>\n",
       "      <th>NUEVO</th>\n",
       "      <th>RECLAMO</th>\n",
       "      <th>REINGRESO</th>\n",
       "    </tr>\n",
       "  </thead>\n",
       "  <tbody>\n",
       "    <tr>\n",
       "      <th>count</th>\n",
       "      <td>47.000000</td>\n",
       "      <td>47.000000</td>\n",
       "      <td>47.000000</td>\n",
       "    </tr>\n",
       "    <tr>\n",
       "      <th>mean</th>\n",
       "      <td>95.561702</td>\n",
       "      <td>1.476596</td>\n",
       "      <td>2.955319</td>\n",
       "    </tr>\n",
       "    <tr>\n",
       "      <th>std</th>\n",
       "      <td>4.873779</td>\n",
       "      <td>2.482216</td>\n",
       "      <td>3.551351</td>\n",
       "    </tr>\n",
       "    <tr>\n",
       "      <th>min</th>\n",
       "      <td>81.200000</td>\n",
       "      <td>0.000000</td>\n",
       "      <td>0.000000</td>\n",
       "    </tr>\n",
       "    <tr>\n",
       "      <th>25%</th>\n",
       "      <td>92.750000</td>\n",
       "      <td>0.000000</td>\n",
       "      <td>0.000000</td>\n",
       "    </tr>\n",
       "    <tr>\n",
       "      <th>50%</th>\n",
       "      <td>96.400000</td>\n",
       "      <td>0.000000</td>\n",
       "      <td>1.900000</td>\n",
       "    </tr>\n",
       "    <tr>\n",
       "      <th>75%</th>\n",
       "      <td>100.000000</td>\n",
       "      <td>2.650000</td>\n",
       "      <td>5.300000</td>\n",
       "    </tr>\n",
       "    <tr>\n",
       "      <th>max</th>\n",
       "      <td>100.000000</td>\n",
       "      <td>10.700000</td>\n",
       "      <td>12.500000</td>\n",
       "    </tr>\n",
       "  </tbody>\n",
       "</table>\n",
       "</div>"
      ],
      "text/plain": [
       "            NUEVO    RECLAMO  REINGRESO\n",
       "count   47.000000  47.000000  47.000000\n",
       "mean    95.561702   1.476596   2.955319\n",
       "std      4.873779   2.482216   3.551351\n",
       "min     81.200000   0.000000   0.000000\n",
       "25%     92.750000   0.000000   0.000000\n",
       "50%     96.400000   0.000000   1.900000\n",
       "75%    100.000000   2.650000   5.300000\n",
       "max    100.000000  10.700000  12.500000"
      ]
     },
     "execution_count": 32,
     "metadata": {},
     "output_type": "execute_result"
    }
   ],
   "source": [
    "category_p = df_pj_nh.iloc[:,1:].columns\n",
    "df_pj_nh_p = pd.DataFrame()\n",
    "\n",
    "for c in category_p:\n",
    "\n",
    "    df_pj_nh_p[c] = round((df_pj_nh[c] / df_pj_nh[df_pj_nh.columns[0]])*100, 1)\n",
    "\n",
    "df_pj_nh_p.to_csv('./data/NotHydraulicProjectsPercent_vs_time.csv')\n",
    "df_pj_nh_p.describe()"
   ]
  },
  {
   "cell_type": "markdown",
   "metadata": {},
   "source": [
    "## **III) PLOTTING**\n",
    "\n",
    "### We are going to plot: All projects/ Hydraulic Cylinder/ NOT Hydraulic Cylinder VS Time\n",
    "\n",
    "- ### By absolute amount\n",
    "- ### By percent\n",
    "\n",
    "## **III.1) By absolute amount**"
   ]
  },
  {
   "cell_type": "code",
   "execution_count": 34,
   "metadata": {},
   "outputs": [
    {
     "data": {
      "text/plain": [
       "\"\\n# Aditional parameters -------------\\nplt.xticks(rotation=45)\\nplt.legend()\\nplt.xlabel('X label')\\nplt.ylabel('Y label')\\n#plt.ylim(-10,40)\\nplt.show()\\n\""
      ]
     },
     "execution_count": 34,
     "metadata": {},
     "output_type": "execute_result"
    },
    {
     "data": {
      "image/png": "[encoded data removed]",
      "text/plain": [
       "<Figure size 2400x1200 with 1 Axes>"
      ]
     },
     "metadata": {},
     "output_type": "display_data"
    },
    {
     "data": {
      "image/png": "[encoded data removed]",
      "text/plain": [
       "<Figure size 2400x1200 with 1 Axes>"
      ]
     },
     "metadata": {},
     "output_type": "display_data"
    },
    {
     "data": {
      "image/png": "[encoded data removed]",
      "text/plain": [
       "<Figure size 2400x1200 with 1 Axes>"
      ]
     },
     "metadata": {},
     "output_type": "display_data"
    }
   ],
   "source": [
    "list_pj = [df_pj, df_pj_h, df_pj_nh]\n",
    "#list_pj_p = [df_pj_p, df_pj_h_p, df_pj_nh_p]\n",
    "\n",
    "for project in list_pj:\n",
    "    \n",
    "    project.plot(figsize = (24,12), kind = 'bar', grid = True, rot = 60)\n",
    "    plt.xlabel('Year-month', size = 20)\n",
    "    plt.ylabel(project.columns[0], size = 20)\n",
    "    plt.title(project.columns[0] + ' vs Time', size = 20)\n",
    "\n",
    "    # Horizontal line\n",
    "    #yline = round(df_pj['TOTAL'].mean(), 0)\n",
    "    #plt.axhline(y=yline, color='r', linestyle='-')\n",
    "\n",
    "'''\n",
    "# Aditional parameters -------------\n",
    "plt.xticks(rotation=45)\n",
    "plt.legend()\n",
    "plt.xlabel('X label')\n",
    "plt.ylabel('Y label')\n",
    "#plt.ylim(-10,40)\n",
    "plt.show()\n",
    "'''\n",
    "\n"
   ]
  }
 ],
 "metadata": {
  "kernelspec": {
   "display_name": "Python 3",
   "language": "python",
   "name": "python3"
  },
  "language_info": {
   "codemirror_mode": {
    "name": "ipython",
    "version": 3
   },
   "file_extension": ".py",
   "mimetype": "text/x-python",
   "name": "python",
   "nbconvert_exporter": "python",
   "pygments_lexer": "ipython3",
   "version": "3.11.9"
  }
 },
 "nbformat": 4,
 "nbformat_minor": 2
}
